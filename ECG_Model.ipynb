{
  "cells": [
    {
      "cell_type": "markdown",
      "metadata": {
        "id": "view-in-github",
        "colab_type": "text"
      },
      "source": [
        "<a href=\"https://colab.research.google.com/github/Khaled97Otour/ECG_Model/blob/main/ECG_Model.ipynb\" target=\"_parent\"><img src=\"https://colab.research.google.com/assets/colab-badge.svg\" alt=\"Open In Colab\"/></a>"
      ]
    },
    {
      "cell_type": "code",
      "execution_count": 1,
      "metadata": {
        "colab": {
          "base_uri": "https://localhost:8080/"
        },
        "id": "7__HF60r9YzR",
        "outputId": "b94fd8f3-1189-4928-ee45-6f6630673fab"
      },
      "outputs": [
        {
          "output_type": "stream",
          "name": "stdout",
          "text": [
            "Requirement already satisfied: keras in /usr/local/lib/python3.10/dist-packages (2.12.0)\n"
          ]
        }
      ],
      "source": [
        "pip install keras"
      ]
    },
    {
      "cell_type": "code",
      "execution_count": 2,
      "metadata": {
        "colab": {
          "base_uri": "https://localhost:8080/"
        },
        "id": "gFuj55vj9cmX",
        "outputId": "5eaba4f7-c98a-4c97-cc35-8e1dbaa3be05"
      },
      "outputs": [
        {
          "output_type": "stream",
          "name": "stdout",
          "text": [
            "Requirement already satisfied: tensorflow in /usr/local/lib/python3.10/dist-packages (2.12.0)\n",
            "Requirement already satisfied: absl-py>=1.0.0 in /usr/local/lib/python3.10/dist-packages (from tensorflow) (1.4.0)\n",
            "Requirement already satisfied: astunparse>=1.6.0 in /usr/local/lib/python3.10/dist-packages (from tensorflow) (1.6.3)\n",
            "Requirement already satisfied: flatbuffers>=2.0 in /usr/local/lib/python3.10/dist-packages (from tensorflow) (23.5.26)\n",
            "Requirement already satisfied: gast<=0.4.0,>=0.2.1 in /usr/local/lib/python3.10/dist-packages (from tensorflow) (0.4.0)\n",
            "Requirement already satisfied: google-pasta>=0.1.1 in /usr/local/lib/python3.10/dist-packages (from tensorflow) (0.2.0)\n",
            "Requirement already satisfied: grpcio<2.0,>=1.24.3 in /usr/local/lib/python3.10/dist-packages (from tensorflow) (1.56.2)\n",
            "Requirement already satisfied: h5py>=2.9.0 in /usr/local/lib/python3.10/dist-packages (from tensorflow) (3.8.0)\n",
            "Requirement already satisfied: jax>=0.3.15 in /usr/local/lib/python3.10/dist-packages (from tensorflow) (0.4.13)\n",
            "Requirement already satisfied: keras<2.13,>=2.12.0 in /usr/local/lib/python3.10/dist-packages (from tensorflow) (2.12.0)\n",
            "Requirement already satisfied: libclang>=13.0.0 in /usr/local/lib/python3.10/dist-packages (from tensorflow) (16.0.6)\n",
            "Requirement already satisfied: numpy<1.24,>=1.22 in /usr/local/lib/python3.10/dist-packages (from tensorflow) (1.22.4)\n",
            "Requirement already satisfied: opt-einsum>=2.3.2 in /usr/local/lib/python3.10/dist-packages (from tensorflow) (3.3.0)\n",
            "Requirement already satisfied: packaging in /usr/local/lib/python3.10/dist-packages (from tensorflow) (23.1)\n",
            "Requirement already satisfied: protobuf!=4.21.0,!=4.21.1,!=4.21.2,!=4.21.3,!=4.21.4,!=4.21.5,<5.0.0dev,>=3.20.3 in /usr/local/lib/python3.10/dist-packages (from tensorflow) (3.20.3)\n",
            "Requirement already satisfied: setuptools in /usr/local/lib/python3.10/dist-packages (from tensorflow) (67.7.2)\n",
            "Requirement already satisfied: six>=1.12.0 in /usr/local/lib/python3.10/dist-packages (from tensorflow) (1.16.0)\n",
            "Requirement already satisfied: tensorboard<2.13,>=2.12 in /usr/local/lib/python3.10/dist-packages (from tensorflow) (2.12.3)\n",
            "Requirement already satisfied: tensorflow-estimator<2.13,>=2.12.0 in /usr/local/lib/python3.10/dist-packages (from tensorflow) (2.12.0)\n",
            "Requirement already satisfied: termcolor>=1.1.0 in /usr/local/lib/python3.10/dist-packages (from tensorflow) (2.3.0)\n",
            "Requirement already satisfied: typing-extensions>=3.6.6 in /usr/local/lib/python3.10/dist-packages (from tensorflow) (4.7.1)\n",
            "Requirement already satisfied: wrapt<1.15,>=1.11.0 in /usr/local/lib/python3.10/dist-packages (from tensorflow) (1.14.1)\n",
            "Requirement already satisfied: tensorflow-io-gcs-filesystem>=0.23.1 in /usr/local/lib/python3.10/dist-packages (from tensorflow) (0.32.0)\n",
            "Requirement already satisfied: wheel<1.0,>=0.23.0 in /usr/local/lib/python3.10/dist-packages (from astunparse>=1.6.0->tensorflow) (0.41.0)\n",
            "Requirement already satisfied: ml-dtypes>=0.1.0 in /usr/local/lib/python3.10/dist-packages (from jax>=0.3.15->tensorflow) (0.2.0)\n",
            "Requirement already satisfied: scipy>=1.7 in /usr/local/lib/python3.10/dist-packages (from jax>=0.3.15->tensorflow) (1.10.1)\n",
            "Requirement already satisfied: google-auth<3,>=1.6.3 in /usr/local/lib/python3.10/dist-packages (from tensorboard<2.13,>=2.12->tensorflow) (2.17.3)\n",
            "Requirement already satisfied: google-auth-oauthlib<1.1,>=0.5 in /usr/local/lib/python3.10/dist-packages (from tensorboard<2.13,>=2.12->tensorflow) (1.0.0)\n",
            "Requirement already satisfied: markdown>=2.6.8 in /usr/local/lib/python3.10/dist-packages (from tensorboard<2.13,>=2.12->tensorflow) (3.4.4)\n",
            "Requirement already satisfied: requests<3,>=2.21.0 in /usr/local/lib/python3.10/dist-packages (from tensorboard<2.13,>=2.12->tensorflow) (2.27.1)\n",
            "Requirement already satisfied: tensorboard-data-server<0.8.0,>=0.7.0 in /usr/local/lib/python3.10/dist-packages (from tensorboard<2.13,>=2.12->tensorflow) (0.7.1)\n",
            "Requirement already satisfied: werkzeug>=1.0.1 in /usr/local/lib/python3.10/dist-packages (from tensorboard<2.13,>=2.12->tensorflow) (2.3.6)\n",
            "Requirement already satisfied: cachetools<6.0,>=2.0.0 in /usr/local/lib/python3.10/dist-packages (from google-auth<3,>=1.6.3->tensorboard<2.13,>=2.12->tensorflow) (5.3.1)\n",
            "Requirement already satisfied: pyasn1-modules>=0.2.1 in /usr/local/lib/python3.10/dist-packages (from google-auth<3,>=1.6.3->tensorboard<2.13,>=2.12->tensorflow) (0.3.0)\n",
            "Requirement already satisfied: rsa<5,>=3.1.4 in /usr/local/lib/python3.10/dist-packages (from google-auth<3,>=1.6.3->tensorboard<2.13,>=2.12->tensorflow) (4.9)\n",
            "Requirement already satisfied: requests-oauthlib>=0.7.0 in /usr/local/lib/python3.10/dist-packages (from google-auth-oauthlib<1.1,>=0.5->tensorboard<2.13,>=2.12->tensorflow) (1.3.1)\n",
            "Requirement already satisfied: urllib3<1.27,>=1.21.1 in /usr/local/lib/python3.10/dist-packages (from requests<3,>=2.21.0->tensorboard<2.13,>=2.12->tensorflow) (1.26.16)\n",
            "Requirement already satisfied: certifi>=2017.4.17 in /usr/local/lib/python3.10/dist-packages (from requests<3,>=2.21.0->tensorboard<2.13,>=2.12->tensorflow) (2023.7.22)\n",
            "Requirement already satisfied: charset-normalizer~=2.0.0 in /usr/local/lib/python3.10/dist-packages (from requests<3,>=2.21.0->tensorboard<2.13,>=2.12->tensorflow) (2.0.12)\n",
            "Requirement already satisfied: idna<4,>=2.5 in /usr/local/lib/python3.10/dist-packages (from requests<3,>=2.21.0->tensorboard<2.13,>=2.12->tensorflow) (3.4)\n",
            "Requirement already satisfied: MarkupSafe>=2.1.1 in /usr/local/lib/python3.10/dist-packages (from werkzeug>=1.0.1->tensorboard<2.13,>=2.12->tensorflow) (2.1.3)\n",
            "Requirement already satisfied: pyasn1<0.6.0,>=0.4.6 in /usr/local/lib/python3.10/dist-packages (from pyasn1-modules>=0.2.1->google-auth<3,>=1.6.3->tensorboard<2.13,>=2.12->tensorflow) (0.5.0)\n",
            "Requirement already satisfied: oauthlib>=3.0.0 in /usr/local/lib/python3.10/dist-packages (from requests-oauthlib>=0.7.0->google-auth-oauthlib<1.1,>=0.5->tensorboard<2.13,>=2.12->tensorflow) (3.2.2)\n"
          ]
        }
      ],
      "source": [
        "pip install tensorflow"
      ]
    },
    {
      "cell_type": "code",
      "execution_count": 3,
      "metadata": {
        "id": "AeWXQVOZXOPM"
      },
      "outputs": [],
      "source": [
        "import keras\n",
        "import tensorflow as tf\n",
        "from keras.models import Sequential\n",
        "from keras.models import load_model\n",
        "from keras.layers import Conv1D, BatchNormalization,MaxPool1D, GlobalMaxPool1D\n",
        "from keras.layers import TimeDistributed, GRU, Dense, Dropout, Masking, Embedding, LSTM ,Flatten\n",
        "from keras.layers import Input, Conv1D, DepthwiseConv1D,GlobalMaxPool1D,\\\n",
        "      Dense, Concatenate, Add, ReLU, BatchNormalization, AvgPool1D,MaxPool1D,\\\n",
        "      GlobalAvgPool1D, Reshape, Permute, Lambda, Activation,RepeatVector\n",
        "from keras import layers\n",
        "from keras import models\n",
        "import keras.backend as K\n",
        "from keras.models import Model\n",
        "import keras.backend as K\n",
        "import random\n",
        "import math\n",
        "import numpy as np\n",
        "import pandas as pd\n",
        "import matplotlib.pyplot as plt\n",
        "import scipy, matplotlib\n",
        "import csv\n",
        "from scipy.fft import ifft,rfft\n",
        "from tensorflow.keras.callbacks import EarlyStopping, ModelCheckpoint, ReduceLROnPlateau"
      ]
    },
    {
      "cell_type": "code",
      "execution_count": 4,
      "metadata": {
        "colab": {
          "base_uri": "https://localhost:8080/"
        },
        "id": "2j5kbrHtlpCU",
        "outputId": "e45bffde-3c5f-4d98-ed82-f425fb7f636c"
      },
      "outputs": [
        {
          "output_type": "stream",
          "name": "stdout",
          "text": [
            "Drive already mounted at /content/drive; to attempt to forcibly remount, call drive.mount(\"/content/drive\", force_remount=True).\n"
          ]
        }
      ],
      "source": [
        "from google.colab import drive\n",
        "drive.mount('/content/drive')"
      ]
    },
    {
      "cell_type": "code",
      "execution_count": 5,
      "metadata": {
        "id": "cslJwhqIFl5x"
      },
      "outputs": [],
      "source": [
        "def Import_data(x,y):\n",
        "  # read the files and build a dataset\n",
        "  # after processing the input signals\n",
        "  rows = []\n",
        "  rows1= []\n",
        "  for i in range(x.shape[0]):\n",
        "    rows.append(x.iloc[i])\n",
        "  for i in range(y.shape[0]):\n",
        "    rows1.append(y.iloc[i])\n",
        "  raw_normal_signals=np.asarray(rows)\n",
        "  raw_Abnormal_signals=np.asarray(rows1)\n",
        "  return raw_normal_signals,raw_Abnormal_signals"
      ]
    },
    {
      "cell_type": "code",
      "execution_count": 6,
      "metadata": {
        "id": "iQuu-Zy8lfrA"
      },
      "outputs": [],
      "source": [
        "def Do_dataset(x,y):\n",
        "  # building dataset after cleaning all the signals and establish a dataframe as well as define a colume of labels.\n",
        "  number=[]\n",
        "  signals=[]\n",
        "  for i in range(x.shape[0]):\n",
        "    signals.append(x[i])\n",
        "    number.append(0)\n",
        "  for i in range(y.shape[0]):\n",
        "    signals.append(y[i])\n",
        "    number.append(1)\n",
        "  numbers=np.asarray(number)\n",
        "  # constructe dataset using data frame\n",
        "  my_series=pd.Series(data=signals,name='signals')\n",
        "  data=pd.DataFrame(my_series)\n",
        "  data['label']=numbers\n",
        "  return data"
      ]
    },
    {
      "cell_type": "code",
      "execution_count": 7,
      "metadata": {
        "id": "a1t9vyzqKZxS"
      },
      "outputs": [],
      "source": [
        "def load_signal_label(x):\n",
        "  signals = []\n",
        "  label = []\n",
        "  Signals_data=[]\n",
        "  for i in range(len(x)):\n",
        "    indexed_data = x.iloc[i]\n",
        "    ff = indexed_data['signals']\n",
        "    i = 0\n",
        "    signals.append(indexed_data['signals'])\n",
        "    label.append(indexed_data['label'])\n",
        "  signals = np.asarray(signals)\n",
        "  label   = np.asarray(label)\n",
        "  return signals, label"
      ]
    },
    {
      "cell_type": "code",
      "execution_count": 8,
      "metadata": {
        "id": "O1VEdFiBIuf5"
      },
      "outputs": [],
      "source": [
        "def data_gen(x,y):\n",
        "  batch_signals = []\n",
        "  batch_label = []\n",
        "  # steps\n",
        "  for i in range(len(x)):\n",
        "    sig=x[i]\n",
        "    sig = np.expand_dims(sig, axis=-1)\n",
        "    batch_signals.append(sig)\n",
        "    labell =y[i]\n",
        "    batch_label.append(labell)\n",
        "  A=np.asarray(batch_signals)\n",
        "  B=np.asarray(batch_label)\n",
        "  return A, B"
      ]
    },
    {
      "cell_type": "code",
      "execution_count": 9,
      "metadata": {
        "id": "C1cujWi9MnSw"
      },
      "outputs": [],
      "source": [
        "def steps(x):\n",
        "  Signals=[]\n",
        "  step_signal = []\n",
        "  for i in range(x.shape[0]):\n",
        "    X = x[i]\n",
        "    n = 0\n",
        "    split_signal = []\n",
        "    for I in range(10):\n",
        "      Y = X[n:n+18]\n",
        "      n=n+18\n",
        "      split_signal.append(Y)\n",
        "    step_signal.append(split_signal)\n",
        "  Signals.append(step_signal)\n",
        "  Signals = np.squeeze(np.asarray(Signals))\n",
        "  return Signals"
      ]
    },
    {
      "cell_type": "code",
      "execution_count": 10,
      "metadata": {
        "id": "lJcZAKv4jNuV"
      },
      "outputs": [],
      "source": [
        "csvreader = pd.read_csv(r'/content/drive/MyDrive/Colab Notebooks/ECG Signal /ptbdb_normal.csv')\n",
        "csvreader1 = pd.read_csv(r'/content/drive/MyDrive/Colab Notebooks/ECG Signal /ptbdb_abnormal.csv')\n"
      ]
    },
    {
      "cell_type": "code",
      "execution_count": 11,
      "metadata": {
        "id": "aWOvdTA8EBdI"
      },
      "outputs": [],
      "source": [
        "Normal,AbNormal= Import_data(csvreader,csvreader1)"
      ]
    },
    {
      "cell_type": "code",
      "execution_count": 12,
      "metadata": {
        "id": "diUDEwUKEAqr",
        "colab": {
          "base_uri": "https://localhost:8080/"
        },
        "outputId": "441614ae-3e10-4248-c0af-e31dd761bc01"
      },
      "outputs": [
        {
          "output_type": "execute_result",
          "data": {
            "text/plain": [
              "(14550, 188)"
            ]
          },
          "metadata": {},
          "execution_count": 12
        }
      ],
      "source": [
        "Dataset= Do_dataset(Normal,AbNormal)\n",
        "Signals, label= load_signal_label(Dataset)\n",
        "Signals.shape"
      ]
    },
    {
      "cell_type": "code",
      "execution_count": 13,
      "metadata": {
        "id": "nRKfZP9NNaNC"
      },
      "outputs": [],
      "source": [
        "Signals=steps(Signals)\n",
        "xx_train_gen, yy_train_gen = data_gen(Signals, label)"
      ]
    },
    {
      "cell_type": "code",
      "source": [
        "Signals.shape"
      ],
      "metadata": {
        "colab": {
          "base_uri": "https://localhost:8080/"
        },
        "id": "I3q3d_2Qvu0T",
        "outputId": "578bbf6c-fad4-47d6-97a1-78747c34cc77"
      },
      "execution_count": 14,
      "outputs": [
        {
          "output_type": "execute_result",
          "data": {
            "text/plain": [
              "(14550, 10, 18)"
            ]
          },
          "metadata": {},
          "execution_count": 14
        }
      ]
    },
    {
      "cell_type": "code",
      "execution_count": 15,
      "metadata": {
        "colab": {
          "base_uri": "https://localhost:8080/",
          "height": 423
        },
        "id": "XeLVRJk5IlmU",
        "outputId": "31ef6aa7-d648-4de9-baf8-c4247ce99d6e"
      },
      "outputs": [
        {
          "output_type": "execute_result",
          "data": {
            "text/plain": [
              "                                                 signals  label\n",
              "0      [1.0, 0.7946814894676208, 0.375386506319046, 0...      0\n",
              "1      [0.909028947353363, 0.7914820909500122, 0.4231...      0\n",
              "2      [1.0, 0.4788933396339417, 0.05675984174013138,...      0\n",
              "3      [1.0, 0.8672383427619934, 0.20136013627052307,...      0\n",
              "4      [0.9489833116531373, 0.5052650570869446, 0.004...      0\n",
              "...                                                  ...    ...\n",
              "14545  [0.9814086556434632, 1.0, 0.5591705441474915, ...      1\n",
              "14546  [0.90625, 0.9223790168762208, 0.87802422046661...      1\n",
              "14547  [1.0, 0.8679714202880859, 0.6741223931312561, ...      1\n",
              "14548  [1.0, 0.984671711921692, 0.6588881015777588, 0...      1\n",
              "14549  [0.997885823249817, 0.7003171443939209, 0.4640...      1\n",
              "\n",
              "[14550 rows x 2 columns]"
            ],
            "text/html": [
              "\n",
              "\n",
              "  <div id=\"df-0115ba18-9af4-4108-ba8c-6e2ba0c88524\">\n",
              "    <div class=\"colab-df-container\">\n",
              "      <div>\n",
              "<style scoped>\n",
              "    .dataframe tbody tr th:only-of-type {\n",
              "        vertical-align: middle;\n",
              "    }\n",
              "\n",
              "    .dataframe tbody tr th {\n",
              "        vertical-align: top;\n",
              "    }\n",
              "\n",
              "    .dataframe thead th {\n",
              "        text-align: right;\n",
              "    }\n",
              "</style>\n",
              "<table border=\"1\" class=\"dataframe\">\n",
              "  <thead>\n",
              "    <tr style=\"text-align: right;\">\n",
              "      <th></th>\n",
              "      <th>signals</th>\n",
              "      <th>label</th>\n",
              "    </tr>\n",
              "  </thead>\n",
              "  <tbody>\n",
              "    <tr>\n",
              "      <th>0</th>\n",
              "      <td>[1.0, 0.7946814894676208, 0.375386506319046, 0...</td>\n",
              "      <td>0</td>\n",
              "    </tr>\n",
              "    <tr>\n",
              "      <th>1</th>\n",
              "      <td>[0.909028947353363, 0.7914820909500122, 0.4231...</td>\n",
              "      <td>0</td>\n",
              "    </tr>\n",
              "    <tr>\n",
              "      <th>2</th>\n",
              "      <td>[1.0, 0.4788933396339417, 0.05675984174013138,...</td>\n",
              "      <td>0</td>\n",
              "    </tr>\n",
              "    <tr>\n",
              "      <th>3</th>\n",
              "      <td>[1.0, 0.8672383427619934, 0.20136013627052307,...</td>\n",
              "      <td>0</td>\n",
              "    </tr>\n",
              "    <tr>\n",
              "      <th>4</th>\n",
              "      <td>[0.9489833116531373, 0.5052650570869446, 0.004...</td>\n",
              "      <td>0</td>\n",
              "    </tr>\n",
              "    <tr>\n",
              "      <th>...</th>\n",
              "      <td>...</td>\n",
              "      <td>...</td>\n",
              "    </tr>\n",
              "    <tr>\n",
              "      <th>14545</th>\n",
              "      <td>[0.9814086556434632, 1.0, 0.5591705441474915, ...</td>\n",
              "      <td>1</td>\n",
              "    </tr>\n",
              "    <tr>\n",
              "      <th>14546</th>\n",
              "      <td>[0.90625, 0.9223790168762208, 0.87802422046661...</td>\n",
              "      <td>1</td>\n",
              "    </tr>\n",
              "    <tr>\n",
              "      <th>14547</th>\n",
              "      <td>[1.0, 0.8679714202880859, 0.6741223931312561, ...</td>\n",
              "      <td>1</td>\n",
              "    </tr>\n",
              "    <tr>\n",
              "      <th>14548</th>\n",
              "      <td>[1.0, 0.984671711921692, 0.6588881015777588, 0...</td>\n",
              "      <td>1</td>\n",
              "    </tr>\n",
              "    <tr>\n",
              "      <th>14549</th>\n",
              "      <td>[0.997885823249817, 0.7003171443939209, 0.4640...</td>\n",
              "      <td>1</td>\n",
              "    </tr>\n",
              "  </tbody>\n",
              "</table>\n",
              "<p>14550 rows × 2 columns</p>\n",
              "</div>\n",
              "      <button class=\"colab-df-convert\" onclick=\"convertToInteractive('df-0115ba18-9af4-4108-ba8c-6e2ba0c88524')\"\n",
              "              title=\"Convert this dataframe to an interactive table.\"\n",
              "              style=\"display:none;\">\n",
              "\n",
              "  <svg xmlns=\"http://www.w3.org/2000/svg\" height=\"24px\"viewBox=\"0 0 24 24\"\n",
              "       width=\"24px\">\n",
              "    <path d=\"M0 0h24v24H0V0z\" fill=\"none\"/>\n",
              "    <path d=\"M18.56 5.44l.94 2.06.94-2.06 2.06-.94-2.06-.94-.94-2.06-.94 2.06-2.06.94zm-11 1L8.5 8.5l.94-2.06 2.06-.94-2.06-.94L8.5 2.5l-.94 2.06-2.06.94zm10 10l.94 2.06.94-2.06 2.06-.94-2.06-.94-.94-2.06-.94 2.06-2.06.94z\"/><path d=\"M17.41 7.96l-1.37-1.37c-.4-.4-.92-.59-1.43-.59-.52 0-1.04.2-1.43.59L10.3 9.45l-7.72 7.72c-.78.78-.78 2.05 0 2.83L4 21.41c.39.39.9.59 1.41.59.51 0 1.02-.2 1.41-.59l7.78-7.78 2.81-2.81c.8-.78.8-2.07 0-2.86zM5.41 20L4 18.59l7.72-7.72 1.47 1.35L5.41 20z\"/>\n",
              "  </svg>\n",
              "      </button>\n",
              "\n",
              "\n",
              "\n",
              "    <div id=\"df-463fbd58-f9ae-44cd-96d5-74029ea2d6ed\">\n",
              "      <button class=\"colab-df-quickchart\" onclick=\"quickchart('df-463fbd58-f9ae-44cd-96d5-74029ea2d6ed')\"\n",
              "              title=\"Suggest charts.\"\n",
              "              style=\"display:none;\">\n",
              "\n",
              "<svg xmlns=\"http://www.w3.org/2000/svg\" height=\"24px\"viewBox=\"0 0 24 24\"\n",
              "     width=\"24px\">\n",
              "    <g>\n",
              "        <path d=\"M19 3H5c-1.1 0-2 .9-2 2v14c0 1.1.9 2 2 2h14c1.1 0 2-.9 2-2V5c0-1.1-.9-2-2-2zM9 17H7v-7h2v7zm4 0h-2V7h2v10zm4 0h-2v-4h2v4z\"/>\n",
              "    </g>\n",
              "</svg>\n",
              "      </button>\n",
              "    </div>\n",
              "\n",
              "<style>\n",
              "  .colab-df-quickchart {\n",
              "    background-color: #E8F0FE;\n",
              "    border: none;\n",
              "    border-radius: 50%;\n",
              "    cursor: pointer;\n",
              "    display: none;\n",
              "    fill: #1967D2;\n",
              "    height: 32px;\n",
              "    padding: 0 0 0 0;\n",
              "    width: 32px;\n",
              "  }\n",
              "\n",
              "  .colab-df-quickchart:hover {\n",
              "    background-color: #E2EBFA;\n",
              "    box-shadow: 0px 1px 2px rgba(60, 64, 67, 0.3), 0px 1px 3px 1px rgba(60, 64, 67, 0.15);\n",
              "    fill: #174EA6;\n",
              "  }\n",
              "\n",
              "  [theme=dark] .colab-df-quickchart {\n",
              "    background-color: #3B4455;\n",
              "    fill: #D2E3FC;\n",
              "  }\n",
              "\n",
              "  [theme=dark] .colab-df-quickchart:hover {\n",
              "    background-color: #434B5C;\n",
              "    box-shadow: 0px 1px 3px 1px rgba(0, 0, 0, 0.15);\n",
              "    filter: drop-shadow(0px 1px 2px rgba(0, 0, 0, 0.3));\n",
              "    fill: #FFFFFF;\n",
              "  }\n",
              "</style>\n",
              "\n",
              "    <script>\n",
              "      async function quickchart(key) {\n",
              "        const containerElement = document.querySelector('#' + key);\n",
              "        const charts = await google.colab.kernel.invokeFunction(\n",
              "            'suggestCharts', [key], {});\n",
              "      }\n",
              "    </script>\n",
              "\n",
              "      <script>\n",
              "\n",
              "function displayQuickchartButton(domScope) {\n",
              "  let quickchartButtonEl =\n",
              "    domScope.querySelector('#df-463fbd58-f9ae-44cd-96d5-74029ea2d6ed button.colab-df-quickchart');\n",
              "  quickchartButtonEl.style.display =\n",
              "    google.colab.kernel.accessAllowed ? 'block' : 'none';\n",
              "}\n",
              "\n",
              "        displayQuickchartButton(document);\n",
              "      </script>\n",
              "      <style>\n",
              "    .colab-df-container {\n",
              "      display:flex;\n",
              "      flex-wrap:wrap;\n",
              "      gap: 12px;\n",
              "    }\n",
              "\n",
              "    .colab-df-convert {\n",
              "      background-color: #E8F0FE;\n",
              "      border: none;\n",
              "      border-radius: 50%;\n",
              "      cursor: pointer;\n",
              "      display: none;\n",
              "      fill: #1967D2;\n",
              "      height: 32px;\n",
              "      padding: 0 0 0 0;\n",
              "      width: 32px;\n",
              "    }\n",
              "\n",
              "    .colab-df-convert:hover {\n",
              "      background-color: #E2EBFA;\n",
              "      box-shadow: 0px 1px 2px rgba(60, 64, 67, 0.3), 0px 1px 3px 1px rgba(60, 64, 67, 0.15);\n",
              "      fill: #174EA6;\n",
              "    }\n",
              "\n",
              "    [theme=dark] .colab-df-convert {\n",
              "      background-color: #3B4455;\n",
              "      fill: #D2E3FC;\n",
              "    }\n",
              "\n",
              "    [theme=dark] .colab-df-convert:hover {\n",
              "      background-color: #434B5C;\n",
              "      box-shadow: 0px 1px 3px 1px rgba(0, 0, 0, 0.15);\n",
              "      filter: drop-shadow(0px 1px 2px rgba(0, 0, 0, 0.3));\n",
              "      fill: #FFFFFF;\n",
              "    }\n",
              "  </style>\n",
              "\n",
              "      <script>\n",
              "        const buttonEl =\n",
              "          document.querySelector('#df-0115ba18-9af4-4108-ba8c-6e2ba0c88524 button.colab-df-convert');\n",
              "        buttonEl.style.display =\n",
              "          google.colab.kernel.accessAllowed ? 'block' : 'none';\n",
              "\n",
              "        async function convertToInteractive(key) {\n",
              "          const element = document.querySelector('#df-0115ba18-9af4-4108-ba8c-6e2ba0c88524');\n",
              "          const dataTable =\n",
              "            await google.colab.kernel.invokeFunction('convertToInteractive',\n",
              "                                                     [key], {});\n",
              "          if (!dataTable) return;\n",
              "\n",
              "          const docLinkHtml = 'Like what you see? Visit the ' +\n",
              "            '<a target=\"_blank\" href=https://colab.research.google.com/notebooks/data_table.ipynb>data table notebook</a>'\n",
              "            + ' to learn more about interactive tables.';\n",
              "          element.innerHTML = '';\n",
              "          dataTable['output_type'] = 'display_data';\n",
              "          await google.colab.output.renderOutput(dataTable, element);\n",
              "          const docLink = document.createElement('div');\n",
              "          docLink.innerHTML = docLinkHtml;\n",
              "          element.appendChild(docLink);\n",
              "        }\n",
              "      </script>\n",
              "    </div>\n",
              "  </div>\n"
            ]
          },
          "metadata": {},
          "execution_count": 15
        }
      ],
      "source": [
        "Dataset"
      ]
    },
    {
      "cell_type": "code",
      "source": [
        "fig, axs = plt.subplots(10)\n",
        "for i in range(10):\n",
        "  axs[i].plot(Signals[0][i])\n"
      ],
      "metadata": {
        "id": "0CD4UoNRNDKx",
        "colab": {
          "base_uri": "https://localhost:8080/",
          "height": 434
        },
        "outputId": "f57193b2-331e-433c-d292-1a9ef3126b84"
      },
      "execution_count": 16,
      "outputs": [
        {
          "output_type": "display_data",
          "data": {
            "text/plain": [
              "<Figure size 640x480 with 10 Axes>"
            ],
            "image/png": "[encoded data removed]"
          },
          "metadata": {}
        }
      ]
    },
    {
      "cell_type": "code",
      "execution_count": 17,
      "metadata": {
        "colab": {
          "base_uri": "https://localhost:8080/"
        },
        "id": "crHPwQTGLcVq",
        "outputId": "5f8cc3c8-0ec6-4eb1-c9c4-1695e89c82ce"
      },
      "outputs": [
        {
          "output_type": "stream",
          "name": "stdout",
          "text": [
            "(14550, 10, 18, 1)\n"
          ]
        }
      ],
      "source": [
        "print(xx_train_gen.shape)"
      ]
    },
    {
      "cell_type": "code",
      "execution_count": 18,
      "metadata": {
        "id": "_AeIWGOzzfHG"
      },
      "outputs": [],
      "source": [
        "def action_model(shape=(10,188, 1), nbout=2):\n",
        "\n",
        "  def Convnet(shape=(18,1)):\n",
        "    model= Sequential()\n",
        "\n",
        "    model.add(Conv1D(64,5,strides=1,padding='same', activation='relu'))\n",
        "\n",
        "    model.add(MaxPool1D(pool_size=2))\n",
        "\n",
        "    model.add(Conv1D(128,7,input_shape=shape,strides=1,padding='same', activation='relu'))\n",
        "\n",
        "    model.add(MaxPool1D(pool_size=2))\n",
        "\n",
        "    model.add(Conv1D(256,9,input_shape=shape,strides=1,padding='same', activation='relu'))\n",
        "\n",
        "    model.add(MaxPool1D(pool_size=2))\n",
        "\n",
        "    model.add(GlobalMaxPool1D())\n",
        "    return model\n",
        "\n",
        "  model= Sequential()\n",
        "\n",
        "  model.add(TimeDistributed(Convnet(shape[1:]),input_shape=shape))\n",
        "  model.add(LSTM(64))\n",
        "\n",
        "  model.add(Dense(1024, activation='sigmoid'))\n",
        "  model.add(BatchNormalization())\n",
        "\n",
        "  model.add(Dense(512, activation='sigmoid'))\n",
        "  model.add(BatchNormalization())\n",
        "\n",
        "  model.add(Dense(256, activation='sigmoid'))\n",
        "  model.add(BatchNormalization())\n",
        "\n",
        "  model.add(Dense(128, activation='sigmoid'))\n",
        "  model.add(BatchNormalization())\n",
        "\n",
        "  model.add(Dense(64, activation='sigmoid'))\n",
        "  model.add(BatchNormalization())\n",
        "\n",
        "  model.add(Dense(32, activation='sigmoid'))\n",
        "  model.add(BatchNormalization())\n",
        "  model.add(Dropout(0.5))\n",
        "  model.add(Dense(1, activation='sigmoid'))\n",
        "  return model"
      ]
    },
    {
      "cell_type": "code",
      "execution_count": 19,
      "metadata": {
        "colab": {
          "base_uri": "https://localhost:8080/"
        },
        "id": "xN100am75ZRr",
        "outputId": "bdfcd4c6-6c79-4f89-ccf1-df3de72e7fdb"
      },
      "outputs": [
        {
          "output_type": "stream",
          "name": "stdout",
          "text": [
            "(10, 18, 1)\n"
          ]
        }
      ],
      "source": [
        "signal_dim = (18,1)\n",
        "steps= (10)\n",
        "classes = 2\n",
        "INPUT_SHAPE= (steps,)+signal_dim\n",
        "print(INPUT_SHAPE)\n",
        "model = action_model(INPUT_SHAPE, 2)\n"
      ]
    },
    {
      "cell_type": "code",
      "execution_count": 20,
      "metadata": {
        "id": "Oz8A6XrYrr_8"
      },
      "outputs": [],
      "source": [
        "from sklearn.model_selection import train_test_split\n",
        "# Split the data\n",
        "x_Data, x_valid, y_Data, y_valid = train_test_split(xx_train_gen, yy_train_gen, test_size=0.33, shuffle= True)"
      ]
    },
    {
      "cell_type": "code",
      "source": [
        "x_train, x_test, y_train, y_test = train_test_split(x_Data, y_Data, test_size=0.33, shuffle= True)"
      ],
      "metadata": {
        "id": "LbO5EjK1kyCL"
      },
      "execution_count": 21,
      "outputs": []
    },
    {
      "cell_type": "code",
      "source": [
        "optimizer = tf.keras.optimizers.Adam()\n",
        "model.compile(\n",
        "    optimizer,\n",
        "    'binary_crossentropy',\n",
        "    metrics=['accuracy']\n",
        ")\n",
        "# Defining Callbacks\n",
        "\n",
        "filepath = './best_weights.hdf5'\n",
        "\n",
        "earlystopping = EarlyStopping(monitor = 'val_loss',\n",
        "                              mode = 'auto' ,\n",
        "                              patience = 12,\n",
        "                              verbose = 1)\n",
        "\n",
        "checkpoint    = ModelCheckpoint(filepath,\n",
        "                                monitor = 'val_loss',\n",
        "                                mode='auto',\n",
        "                                save_best_only=True,\n",
        "                                verbose = 1)\n",
        "\n",
        "learning_rate = ReduceLROnPlateau(monitor = 'val_loss',\n",
        "                                  mode = 'auto',\n",
        "                                  patience = 5,\n",
        "                                  factor = 0.3,\n",
        "                                  min_delta = 0.00001)\n",
        "\n",
        "callback_list = [earlystopping, checkpoint,learning_rate ]"
      ],
      "metadata": {
        "id": "gOqToUd0k_Wi"
      },
      "execution_count": 22,
      "outputs": []
    },
    {
      "cell_type": "code",
      "execution_count": 23,
      "metadata": {
        "id": "etsmLp1SM6ZK",
        "colab": {
          "base_uri": "https://localhost:8080/"
        },
        "outputId": "33c48d19-858a-4a0e-c3dd-5b981aa283ac"
      },
      "outputs": [
        {
          "output_type": "stream",
          "name": "stdout",
          "text": [
            "Model: \"sequential\"\n",
            "_________________________________________________________________\n",
            " Layer (type)                Output Shape              Param #   \n",
            "=================================================================\n",
            " time_distributed (TimeDistr  (None, 10, 256)          353024    \n",
            " ibuted)                                                         \n",
            "                                                                 \n",
            " lstm (LSTM)                 (None, 64)                82176     \n",
            "                                                                 \n",
            " dense (Dense)               (None, 1024)              66560     \n",
            "                                                                 \n",
            " batch_normalization (BatchN  (None, 1024)             4096      \n",
            " ormalization)                                                   \n",
            "                                                                 \n",
            " dense_1 (Dense)             (None, 512)               524800    \n",
            "                                                                 \n",
            " batch_normalization_1 (Batc  (None, 512)              2048      \n",
            " hNormalization)                                                 \n",
            "                                                                 \n",
            " dense_2 (Dense)             (None, 256)               131328    \n",
            "                                                                 \n",
            " batch_normalization_2 (Batc  (None, 256)              1024      \n",
            " hNormalization)                                                 \n",
            "                                                                 \n",
            " dense_3 (Dense)             (None, 128)               32896     \n",
            "                                                                 \n",
            " batch_normalization_3 (Batc  (None, 128)              512       \n",
            " hNormalization)                                                 \n",
            "                                                                 \n",
            " dense_4 (Dense)             (None, 64)                8256      \n",
            "                                                                 \n",
            " batch_normalization_4 (Batc  (None, 64)               256       \n",
            " hNormalization)                                                 \n",
            "                                                                 \n",
            " dense_5 (Dense)             (None, 32)                2080      \n",
            "                                                                 \n",
            " batch_normalization_5 (Batc  (None, 32)               128       \n",
            " hNormalization)                                                 \n",
            "                                                                 \n",
            " dropout (Dropout)           (None, 32)                0         \n",
            "                                                                 \n",
            " dense_6 (Dense)             (None, 1)                 33        \n",
            "                                                                 \n",
            "=================================================================\n",
            "Total params: 1,209,217\n",
            "Trainable params: 1,205,185\n",
            "Non-trainable params: 4,032\n",
            "_________________________________________________________________\n",
            "None\n",
            "Epoch 1/500\n",
            "52/52 [==============================] - ETA: 0s - loss: 0.6850 - accuracy: 0.6615\n",
            "Epoch 1: val_loss improved from inf to 0.98983, saving model to ./best_weights.hdf5\n",
            "52/52 [==============================] - 23s 45ms/step - loss: 0.6850 - accuracy: 0.6615 - val_loss: 0.9898 - val_accuracy: 0.2726 - lr: 0.0010\n",
            "Epoch 2/500\n",
            "52/52 [==============================] - ETA: 0s - loss: 0.4599 - accuracy: 0.7924\n",
            "Epoch 2: val_loss improved from 0.98983 to 0.70776, saving model to ./best_weights.hdf5\n",
            "52/52 [==============================] - 1s 27ms/step - loss: 0.4599 - accuracy: 0.7924 - val_loss: 0.7078 - val_accuracy: 0.2726 - lr: 0.0010\n",
            "Epoch 3/500\n",
            "49/52 [===========================>..] - ETA: 0s - loss: 0.4459 - accuracy: 0.8036\n",
            "Epoch 3: val_loss improved from 0.70776 to 0.59938, saving model to ./best_weights.hdf5\n",
            "52/52 [==============================] - 1s 24ms/step - loss: 0.4474 - accuracy: 0.8032 - val_loss: 0.5994 - val_accuracy: 0.7274 - lr: 0.0010\n",
            "Epoch 4/500\n",
            "50/52 [===========================>..] - ETA: 0s - loss: 0.3429 - accuracy: 0.8541\n",
            "Epoch 4: val_loss improved from 0.59938 to 0.59914, saving model to ./best_weights.hdf5\n",
            "52/52 [==============================] - 1s 26ms/step - loss: 0.3423 - accuracy: 0.8545 - val_loss: 0.5991 - val_accuracy: 0.7274 - lr: 0.0010\n",
            "Epoch 5/500\n",
            "49/52 [===========================>..] - ETA: 0s - loss: 0.2929 - accuracy: 0.8844\n",
            "Epoch 5: val_loss did not improve from 0.59914\n",
            "52/52 [==============================] - 1s 21ms/step - loss: 0.2920 - accuracy: 0.8842 - val_loss: 0.7532 - val_accuracy: 0.7274 - lr: 0.0010\n",
            "Epoch 6/500\n",
            "51/52 [============================>.] - ETA: 0s - loss: 0.2921 - accuracy: 0.8879\n",
            "Epoch 6: val_loss did not improve from 0.59914\n",
            "52/52 [==============================] - 1s 23ms/step - loss: 0.2920 - accuracy: 0.8879 - val_loss: 0.9200 - val_accuracy: 0.7274 - lr: 0.0010\n",
            "Epoch 7/500\n",
            "51/52 [============================>.] - ETA: 0s - loss: 0.2189 - accuracy: 0.9191\n",
            "Epoch 7: val_loss did not improve from 0.59914\n",
            "52/52 [==============================] - 1s 29ms/step - loss: 0.2194 - accuracy: 0.9190 - val_loss: 0.8388 - val_accuracy: 0.7274 - lr: 0.0010\n",
            "Epoch 8/500\n",
            "52/52 [==============================] - ETA: 0s - loss: 0.2045 - accuracy: 0.9244\n",
            "Epoch 8: val_loss did not improve from 0.59914\n",
            "52/52 [==============================] - 1s 26ms/step - loss: 0.2045 - accuracy: 0.9244 - val_loss: 1.2028 - val_accuracy: 0.7274 - lr: 0.0010\n",
            "Epoch 9/500\n",
            "52/52 [==============================] - ETA: 0s - loss: 0.1841 - accuracy: 0.9354\n",
            "Epoch 9: val_loss did not improve from 0.59914\n",
            "52/52 [==============================] - 1s 25ms/step - loss: 0.1841 - accuracy: 0.9354 - val_loss: 1.4274 - val_accuracy: 0.7274 - lr: 0.0010\n",
            "Epoch 10/500\n",
            "52/52 [==============================] - ETA: 0s - loss: 0.1625 - accuracy: 0.9461\n",
            "Epoch 10: val_loss did not improve from 0.59914\n",
            "52/52 [==============================] - 1s 22ms/step - loss: 0.1625 - accuracy: 0.9461 - val_loss: 1.3633 - val_accuracy: 0.7274 - lr: 3.0000e-04\n",
            "Epoch 11/500\n",
            "50/52 [===========================>..] - ETA: 0s - loss: 0.1972 - accuracy: 0.9305\n",
            "Epoch 11: val_loss improved from 0.59914 to 0.36862, saving model to ./best_weights.hdf5\n",
            "52/52 [==============================] - 1s 26ms/step - loss: 0.1966 - accuracy: 0.9308 - val_loss: 0.3686 - val_accuracy: 0.8318 - lr: 3.0000e-04\n",
            "Epoch 12/500\n",
            "52/52 [==============================] - ETA: 0s - loss: 0.1974 - accuracy: 0.9247\n",
            "Epoch 12: val_loss did not improve from 0.36862\n",
            "52/52 [==============================] - 1s 21ms/step - loss: 0.1974 - accuracy: 0.9247 - val_loss: 0.6645 - val_accuracy: 0.7526 - lr: 3.0000e-04\n",
            "Epoch 13/500\n",
            "52/52 [==============================] - ETA: 0s - loss: 0.2917 - accuracy: 0.8824\n",
            "Epoch 13: val_loss did not improve from 0.36862\n",
            "52/52 [==============================] - 1s 23ms/step - loss: 0.2917 - accuracy: 0.8824 - val_loss: 2.2897 - val_accuracy: 0.3301 - lr: 3.0000e-04\n",
            "Epoch 14/500\n",
            "51/52 [============================>.] - ETA: 0s - loss: 0.1958 - accuracy: 0.9282\n",
            "Epoch 14: val_loss did not improve from 0.36862\n",
            "52/52 [==============================] - 1s 22ms/step - loss: 0.1960 - accuracy: 0.9280 - val_loss: 1.7514 - val_accuracy: 0.4672 - lr: 3.0000e-04\n",
            "Epoch 15/500\n",
            "51/52 [============================>.] - ETA: 0s - loss: 0.1532 - accuracy: 0.9504\n",
            "Epoch 15: val_loss did not improve from 0.36862\n",
            "52/52 [==============================] - 1s 24ms/step - loss: 0.1531 - accuracy: 0.9504 - val_loss: 0.6878 - val_accuracy: 0.7156 - lr: 3.0000e-04\n",
            "Epoch 16/500\n",
            "52/52 [==============================] - ETA: 0s - loss: 0.1366 - accuracy: 0.9541\n",
            "Epoch 16: val_loss improved from 0.36862 to 0.21276, saving model to ./best_weights.hdf5\n",
            "52/52 [==============================] - 1s 25ms/step - loss: 0.1366 - accuracy: 0.9541 - val_loss: 0.2128 - val_accuracy: 0.9136 - lr: 3.0000e-04\n",
            "Epoch 17/500\n",
            "51/52 [============================>.] - ETA: 0s - loss: 0.1444 - accuracy: 0.9514\n",
            "Epoch 17: val_loss did not improve from 0.21276\n",
            "52/52 [==============================] - 1s 24ms/step - loss: 0.1444 - accuracy: 0.9515 - val_loss: 0.2297 - val_accuracy: 0.9039 - lr: 3.0000e-04\n",
            "Epoch 18/500\n",
            "50/52 [===========================>..] - ETA: 0s - loss: 0.1286 - accuracy: 0.9566\n",
            "Epoch 18: val_loss did not improve from 0.21276\n",
            "52/52 [==============================] - 1s 26ms/step - loss: 0.1287 - accuracy: 0.9570 - val_loss: 1.3832 - val_accuracy: 0.7283 - lr: 3.0000e-04\n",
            "Epoch 19/500\n",
            "51/52 [============================>.] - ETA: 0s - loss: 0.1153 - accuracy: 0.9622\n",
            "Epoch 19: val_loss did not improve from 0.21276\n",
            "52/52 [==============================] - 2s 32ms/step - loss: 0.1163 - accuracy: 0.9619 - val_loss: 4.6781 - val_accuracy: 0.3276 - lr: 3.0000e-04\n",
            "Epoch 20/500\n",
            "50/52 [===========================>..] - ETA: 0s - loss: 0.3451 - accuracy: 0.8631\n",
            "Epoch 20: val_loss did not improve from 0.21276\n",
            "52/52 [==============================] - 1s 24ms/step - loss: 0.3425 - accuracy: 0.8642 - val_loss: 3.0749 - val_accuracy: 0.2729 - lr: 3.0000e-04\n",
            "Epoch 21/500\n",
            "49/52 [===========================>..] - ETA: 0s - loss: 0.1822 - accuracy: 0.9345\n",
            "Epoch 21: val_loss did not improve from 0.21276\n",
            "52/52 [==============================] - 1s 22ms/step - loss: 0.1827 - accuracy: 0.9339 - val_loss: 3.6349 - val_accuracy: 0.2816 - lr: 3.0000e-04\n",
            "Epoch 22/500\n",
            "52/52 [==============================] - ETA: 0s - loss: 0.1268 - accuracy: 0.9596\n",
            "Epoch 22: val_loss did not improve from 0.21276\n",
            "52/52 [==============================] - 1s 21ms/step - loss: 0.1268 - accuracy: 0.9596 - val_loss: 2.3043 - val_accuracy: 0.3740 - lr: 9.0000e-05\n",
            "Epoch 23/500\n",
            "51/52 [============================>.] - ETA: 0s - loss: 0.1322 - accuracy: 0.9568\n",
            "Epoch 23: val_loss did not improve from 0.21276\n",
            "52/52 [==============================] - 1s 23ms/step - loss: 0.1322 - accuracy: 0.9568 - val_loss: 0.6587 - val_accuracy: 0.7529 - lr: 9.0000e-05\n",
            "Epoch 24/500\n",
            "52/52 [==============================] - ETA: 0s - loss: 0.1157 - accuracy: 0.9651\n",
            "Epoch 24: val_loss did not improve from 0.21276\n",
            "52/52 [==============================] - 1s 22ms/step - loss: 0.1157 - accuracy: 0.9651 - val_loss: 0.7740 - val_accuracy: 0.7293 - lr: 9.0000e-05\n",
            "Epoch 25/500\n",
            "52/52 [==============================] - ETA: 0s - loss: 0.1040 - accuracy: 0.9663\n",
            "Epoch 25: val_loss improved from 0.21276 to 0.19806, saving model to ./best_weights.hdf5\n",
            "52/52 [==============================] - 1s 25ms/step - loss: 0.1040 - accuracy: 0.9663 - val_loss: 0.1981 - val_accuracy: 0.9210 - lr: 9.0000e-05\n",
            "Epoch 26/500\n",
            "52/52 [==============================] - ETA: 0s - loss: 0.1005 - accuracy: 0.9691\n",
            "Epoch 26: val_loss improved from 0.19806 to 0.12149, saving model to ./best_weights.hdf5\n",
            "52/52 [==============================] - 1s 25ms/step - loss: 0.1005 - accuracy: 0.9691 - val_loss: 0.1215 - val_accuracy: 0.9549 - lr: 9.0000e-05\n",
            "Epoch 27/500\n",
            "51/52 [============================>.] - ETA: 0s - loss: 0.0975 - accuracy: 0.9698\n",
            "Epoch 27: val_loss improved from 0.12149 to 0.11156, saving model to ./best_weights.hdf5\n",
            "52/52 [==============================] - 1s 25ms/step - loss: 0.0980 - accuracy: 0.9697 - val_loss: 0.1116 - val_accuracy: 0.9587 - lr: 9.0000e-05\n",
            "Epoch 28/500\n",
            "51/52 [============================>.] - ETA: 0s - loss: 0.0911 - accuracy: 0.9712\n",
            "Epoch 28: val_loss did not improve from 0.11156\n",
            "52/52 [==============================] - 1s 28ms/step - loss: 0.0911 - accuracy: 0.9712 - val_loss: 0.3805 - val_accuracy: 0.8533 - lr: 9.0000e-05\n",
            "Epoch 29/500\n",
            "50/52 [===========================>..] - ETA: 0s - loss: 0.0928 - accuracy: 0.9719\n",
            "Epoch 29: val_loss did not improve from 0.11156\n",
            "52/52 [==============================] - 1s 26ms/step - loss: 0.0932 - accuracy: 0.9718 - val_loss: 0.1618 - val_accuracy: 0.9363 - lr: 9.0000e-05\n",
            "Epoch 30/500\n",
            "50/52 [===========================>..] - ETA: 0s - loss: 0.1617 - accuracy: 0.9453\n",
            "Epoch 30: val_loss did not improve from 0.11156\n",
            "52/52 [==============================] - 1s 28ms/step - loss: 0.1607 - accuracy: 0.9461 - val_loss: 0.5846 - val_accuracy: 0.7886 - lr: 9.0000e-05\n",
            "Epoch 31/500\n",
            "51/52 [============================>.] - ETA: 0s - loss: 0.0980 - accuracy: 0.9675\n",
            "Epoch 31: val_loss did not improve from 0.11156\n",
            "52/52 [==============================] - 1s 21ms/step - loss: 0.0980 - accuracy: 0.9675 - val_loss: 0.3900 - val_accuracy: 0.8517 - lr: 9.0000e-05\n",
            "Epoch 32/500\n",
            "51/52 [============================>.] - ETA: 0s - loss: 0.0910 - accuracy: 0.9714\n",
            "Epoch 32: val_loss did not improve from 0.11156\n",
            "52/52 [==============================] - 1s 23ms/step - loss: 0.0919 - accuracy: 0.9712 - val_loss: 0.1867 - val_accuracy: 0.9270 - lr: 9.0000e-05\n",
            "Epoch 33/500\n",
            "52/52 [==============================] - ETA: 0s - loss: 0.0878 - accuracy: 0.9712\n",
            "Epoch 33: val_loss improved from 0.11156 to 0.09900, saving model to ./best_weights.hdf5\n",
            "52/52 [==============================] - 1s 24ms/step - loss: 0.0878 - accuracy: 0.9712 - val_loss: 0.0990 - val_accuracy: 0.9649 - lr: 2.7000e-05\n",
            "Epoch 34/500\n",
            "51/52 [============================>.] - ETA: 0s - loss: 0.0882 - accuracy: 0.9710\n",
            "Epoch 34: val_loss did not improve from 0.09900\n",
            "52/52 [==============================] - 1s 23ms/step - loss: 0.0886 - accuracy: 0.9709 - val_loss: 0.1040 - val_accuracy: 0.9646 - lr: 2.7000e-05\n",
            "Epoch 35/500\n",
            "49/52 [===========================>..] - ETA: 0s - loss: 0.0882 - accuracy: 0.9726\n",
            "Epoch 35: val_loss improved from 0.09900 to 0.09261, saving model to ./best_weights.hdf5\n",
            "52/52 [==============================] - 1s 23ms/step - loss: 0.0885 - accuracy: 0.9723 - val_loss: 0.0926 - val_accuracy: 0.9698 - lr: 2.7000e-05\n",
            "Epoch 36/500\n",
            "51/52 [============================>.] - ETA: 0s - loss: 0.0836 - accuracy: 0.9738\n",
            "Epoch 36: val_loss did not improve from 0.09261\n",
            "52/52 [==============================] - 1s 23ms/step - loss: 0.0841 - accuracy: 0.9735 - val_loss: 0.0970 - val_accuracy: 0.9667 - lr: 2.7000e-05\n",
            "Epoch 37/500\n",
            "52/52 [==============================] - ETA: 0s - loss: 0.0794 - accuracy: 0.9763\n",
            "Epoch 37: val_loss did not improve from 0.09261\n",
            "52/52 [==============================] - 1s 23ms/step - loss: 0.0794 - accuracy: 0.9763 - val_loss: 0.1066 - val_accuracy: 0.9593 - lr: 2.7000e-05\n",
            "Epoch 38/500\n",
            "51/52 [============================>.] - ETA: 0s - loss: 0.0766 - accuracy: 0.9759\n",
            "Epoch 38: val_loss did not improve from 0.09261\n",
            "52/52 [==============================] - 1s 23ms/step - loss: 0.0771 - accuracy: 0.9758 - val_loss: 0.0943 - val_accuracy: 0.9671 - lr: 2.7000e-05\n",
            "Epoch 39/500\n",
            "52/52 [==============================] - ETA: 0s - loss: 0.0781 - accuracy: 0.9758\n",
            "Epoch 39: val_loss did not improve from 0.09261\n",
            "52/52 [==============================] - 1s 27ms/step - loss: 0.0781 - accuracy: 0.9758 - val_loss: 0.0990 - val_accuracy: 0.9652 - lr: 2.7000e-05\n",
            "Epoch 40/500\n",
            "51/52 [============================>.] - ETA: 0s - loss: 0.0791 - accuracy: 0.9763\n",
            "Epoch 40: val_loss did not improve from 0.09261\n",
            "52/52 [==============================] - 1s 27ms/step - loss: 0.0792 - accuracy: 0.9761 - val_loss: 0.0935 - val_accuracy: 0.9671 - lr: 2.7000e-05\n",
            "Epoch 41/500\n",
            "52/52 [==============================] - ETA: 0s - loss: 0.0812 - accuracy: 0.9752\n",
            "Epoch 41: val_loss improved from 0.09261 to 0.09076, saving model to ./best_weights.hdf5\n",
            "52/52 [==============================] - 2s 30ms/step - loss: 0.0812 - accuracy: 0.9752 - val_loss: 0.0908 - val_accuracy: 0.9677 - lr: 8.1000e-06\n",
            "Epoch 42/500\n",
            "52/52 [==============================] - ETA: 0s - loss: 0.0708 - accuracy: 0.9810\n",
            "Epoch 42: val_loss did not improve from 0.09076\n",
            "52/52 [==============================] - 1s 22ms/step - loss: 0.0708 - accuracy: 0.9810 - val_loss: 0.1129 - val_accuracy: 0.9611 - lr: 8.1000e-06\n",
            "Epoch 43/500\n",
            "50/52 [===========================>..] - ETA: 0s - loss: 0.0777 - accuracy: 0.9762\n",
            "Epoch 43: val_loss did not improve from 0.09076\n",
            "52/52 [==============================] - 1s 23ms/step - loss: 0.0773 - accuracy: 0.9764 - val_loss: 0.1648 - val_accuracy: 0.9375 - lr: 8.1000e-06\n",
            "Epoch 44/500\n",
            "51/52 [============================>.] - ETA: 0s - loss: 0.0815 - accuracy: 0.9781\n",
            "Epoch 44: val_loss did not improve from 0.09076\n",
            "52/52 [==============================] - 1s 29ms/step - loss: 0.0815 - accuracy: 0.9781 - val_loss: 0.0924 - val_accuracy: 0.9692 - lr: 8.1000e-06\n",
            "Epoch 45/500\n",
            "52/52 [==============================] - ETA: 0s - loss: 0.0732 - accuracy: 0.9792\n",
            "Epoch 45: val_loss did not improve from 0.09076\n",
            "52/52 [==============================] - 2s 32ms/step - loss: 0.0732 - accuracy: 0.9792 - val_loss: 0.0908 - val_accuracy: 0.9680 - lr: 8.1000e-06\n",
            "Epoch 46/500\n",
            "52/52 [==============================] - ETA: 0s - loss: 0.0743 - accuracy: 0.9772\n",
            "Epoch 46: val_loss improved from 0.09076 to 0.09016, saving model to ./best_weights.hdf5\n",
            "52/52 [==============================] - 2s 32ms/step - loss: 0.0743 - accuracy: 0.9772 - val_loss: 0.0902 - val_accuracy: 0.9683 - lr: 8.1000e-06\n",
            "Epoch 47/500\n",
            "52/52 [==============================] - ETA: 0s - loss: 0.0688 - accuracy: 0.9773\n",
            "Epoch 47: val_loss did not improve from 0.09016\n",
            "52/52 [==============================] - 1s 21ms/step - loss: 0.0688 - accuracy: 0.9773 - val_loss: 0.0924 - val_accuracy: 0.9677 - lr: 8.1000e-06\n",
            "Epoch 48/500\n",
            "52/52 [==============================] - ETA: 0s - loss: 0.0703 - accuracy: 0.9799\n",
            "Epoch 48: val_loss did not improve from 0.09016\n",
            "52/52 [==============================] - 1s 24ms/step - loss: 0.0703 - accuracy: 0.9799 - val_loss: 0.0925 - val_accuracy: 0.9667 - lr: 8.1000e-06\n",
            "Epoch 49/500\n",
            "52/52 [==============================] - ETA: 0s - loss: 0.0780 - accuracy: 0.9764\n",
            "Epoch 49: val_loss improved from 0.09016 to 0.08910, saving model to ./best_weights.hdf5\n",
            "52/52 [==============================] - 2s 30ms/step - loss: 0.0780 - accuracy: 0.9764 - val_loss: 0.0891 - val_accuracy: 0.9695 - lr: 8.1000e-06\n",
            "Epoch 50/500\n",
            "52/52 [==============================] - ETA: 0s - loss: 0.0733 - accuracy: 0.9789\n",
            "Epoch 50: val_loss did not improve from 0.08910\n",
            "52/52 [==============================] - 1s 27ms/step - loss: 0.0733 - accuracy: 0.9789 - val_loss: 0.0909 - val_accuracy: 0.9702 - lr: 8.1000e-06\n",
            "Epoch 51/500\n",
            "52/52 [==============================] - ETA: 0s - loss: 0.0692 - accuracy: 0.9783\n",
            "Epoch 51: val_loss did not improve from 0.08910\n",
            "52/52 [==============================] - 1s 26ms/step - loss: 0.0692 - accuracy: 0.9783 - val_loss: 0.0950 - val_accuracy: 0.9671 - lr: 8.1000e-06\n",
            "Epoch 52/500\n",
            "52/52 [==============================] - ETA: 0s - loss: 0.0794 - accuracy: 0.9755\n",
            "Epoch 52: val_loss did not improve from 0.08910\n",
            "52/52 [==============================] - 1s 23ms/step - loss: 0.0794 - accuracy: 0.9755 - val_loss: 0.1255 - val_accuracy: 0.9552 - lr: 8.1000e-06\n",
            "Epoch 53/500\n",
            "51/52 [============================>.] - ETA: 0s - loss: 0.0756 - accuracy: 0.9779\n",
            "Epoch 53: val_loss did not improve from 0.08910\n",
            "52/52 [==============================] - 1s 23ms/step - loss: 0.0768 - accuracy: 0.9776 - val_loss: 0.0965 - val_accuracy: 0.9674 - lr: 8.1000e-06\n",
            "Epoch 54/500\n",
            "52/52 [==============================] - ETA: 0s - loss: 0.0767 - accuracy: 0.9772\n",
            "Epoch 54: val_loss did not improve from 0.08910\n",
            "52/52 [==============================] - 1s 22ms/step - loss: 0.0767 - accuracy: 0.9772 - val_loss: 0.0922 - val_accuracy: 0.9698 - lr: 8.1000e-06\n",
            "Epoch 55/500\n",
            "51/52 [============================>.] - ETA: 0s - loss: 0.0750 - accuracy: 0.9773\n",
            "Epoch 55: val_loss did not improve from 0.08910\n",
            "52/52 [==============================] - 1s 23ms/step - loss: 0.0750 - accuracy: 0.9773 - val_loss: 0.0948 - val_accuracy: 0.9689 - lr: 2.4300e-06\n",
            "Epoch 56/500\n",
            "49/52 [===========================>..] - ETA: 0s - loss: 0.0762 - accuracy: 0.9756\n",
            "Epoch 56: val_loss did not improve from 0.08910\n",
            "52/52 [==============================] - 1s 21ms/step - loss: 0.0761 - accuracy: 0.9758 - val_loss: 0.0927 - val_accuracy: 0.9698 - lr: 2.4300e-06\n",
            "Epoch 57/500\n",
            "51/52 [============================>.] - ETA: 0s - loss: 0.0723 - accuracy: 0.9781\n",
            "Epoch 57: val_loss did not improve from 0.08910\n",
            "52/52 [==============================] - 1s 23ms/step - loss: 0.0722 - accuracy: 0.9781 - val_loss: 0.0914 - val_accuracy: 0.9698 - lr: 2.4300e-06\n",
            "Epoch 58/500\n",
            "49/52 [===========================>..] - ETA: 0s - loss: 0.0749 - accuracy: 0.9774\n",
            "Epoch 58: val_loss did not improve from 0.08910\n",
            "52/52 [==============================] - 1s 22ms/step - loss: 0.0748 - accuracy: 0.9773 - val_loss: 0.0907 - val_accuracy: 0.9698 - lr: 2.4300e-06\n",
            "Epoch 59/500\n",
            "51/52 [============================>.] - ETA: 0s - loss: 0.0735 - accuracy: 0.9786\n",
            "Epoch 59: val_loss did not improve from 0.08910\n",
            "52/52 [==============================] - 1s 23ms/step - loss: 0.0735 - accuracy: 0.9786 - val_loss: 0.0909 - val_accuracy: 0.9692 - lr: 2.4300e-06\n",
            "Epoch 60/500\n",
            "51/52 [============================>.] - ETA: 0s - loss: 0.0761 - accuracy: 0.9784\n",
            "Epoch 60: val_loss did not improve from 0.08910\n",
            "52/52 [==============================] - 1s 26ms/step - loss: 0.0762 - accuracy: 0.9783 - val_loss: 0.0908 - val_accuracy: 0.9689 - lr: 7.2900e-07\n",
            "Epoch 61/500\n",
            "50/52 [===========================>..] - ETA: 0s - loss: 0.0759 - accuracy: 0.9777\n",
            "Epoch 61: val_loss did not improve from 0.08910\n",
            "52/52 [==============================] - 2s 31ms/step - loss: 0.0763 - accuracy: 0.9776 - val_loss: 0.0919 - val_accuracy: 0.9695 - lr: 7.2900e-07\n",
            "Epoch 61: early stopping\n"
          ]
        }
      ],
      "source": [
        "print(model.summary())\n",
        "history=model.fit(\n",
        "    x_train,y_train,\n",
        "    validation_data = (x_test,y_test),\n",
        "    verbose=1,\n",
        "    epochs=500,\n",
        "    batch_size = 128,\n",
        "    callbacks = callback_list\n",
        ")"
      ]
    },
    {
      "cell_type": "code",
      "execution_count": 24,
      "metadata": {
        "id": "WZ9pN-Wn9-nl",
        "colab": {
          "base_uri": "https://localhost:8080/",
          "height": 490
        },
        "outputId": "a17d03dd-4827-485a-88d2-bbbffd73b964"
      },
      "outputs": [
        {
          "output_type": "execute_result",
          "data": {
            "text/plain": [
              "Text(0.5, 0, 'epoch')"
            ]
          },
          "metadata": {},
          "execution_count": 24
        },
        {
          "output_type": "display_data",
          "data": {
            "text/plain": [
              "<Figure size 640x480 with 1 Axes>"
            ],
            "image/png": "[encoded data removed]"
          },
          "metadata": {}
        }
      ],
      "source": [
        "import matplotlib.pyplot as plt\n",
        "plt.plot(history.history['loss'])\n",
        "plt.plot(history.history['val_loss'])\n",
        "plt.legend(['loss','val_loss'])\n",
        "plt.title('Loss')\n",
        "plt.xlabel('epoch')"
      ]
    },
    {
      "cell_type": "code",
      "execution_count": 25,
      "metadata": {
        "id": "MyDTOqLX9-V6",
        "colab": {
          "base_uri": "https://localhost:8080/",
          "height": 490
        },
        "outputId": "12ed7fbd-b6c6-4ccd-aae6-4be7e014844b"
      },
      "outputs": [
        {
          "output_type": "execute_result",
          "data": {
            "text/plain": [
              "Text(0.5, 0, 'epoch')"
            ]
          },
          "metadata": {},
          "execution_count": 25
        },
        {
          "output_type": "display_data",
          "data": {
            "text/plain": [
              "<Figure size 640x480 with 1 Axes>"
            ],
            "image/png": "[encoded data removed]"
          },
          "metadata": {}
        }
      ],
      "source": [
        "plt.plot(history.history['accuracy'])\n",
        "plt.plot(history.history['val_accuracy'])\n",
        "plt.legend(['accuracy','val_accuracy'])\n",
        "plt.title('Accuracy')\n",
        "plt.xlabel('epoch')"
      ]
    },
    {
      "cell_type": "code",
      "source": [
        "model.evaluate(x_valid, y_valid)"
      ],
      "metadata": {
        "id": "hDsH3HjglpKY",
        "colab": {
          "base_uri": "https://localhost:8080/"
        },
        "outputId": "9edb26ff-0e1f-472b-ead4-1b60475b778b"
      },
      "execution_count": 26,
      "outputs": [
        {
          "output_type": "stream",
          "name": "stdout",
          "text": [
            "151/151 [==============================] - 1s 5ms/step - loss: 0.1072 - accuracy: 0.9650\n"
          ]
        },
        {
          "output_type": "execute_result",
          "data": {
            "text/plain": [
              "[0.10721132904291153, 0.9650145769119263]"
            ]
          },
          "metadata": {},
          "execution_count": 26
        }
      ]
    },
    {
      "cell_type": "code",
      "source": [
        "import json\n",
        "\n",
        "# lets assume `model` is main model\n",
        "model_json = model.to_json()\n",
        "with open(\"model_in_json_ECG.json\", \"w\") as json_file:\n",
        "    json.dump(model_json, json_file)\n",
        "\n",
        "model.save_weights(\"ECG_lstm.h5\")\n"
      ],
      "metadata": {
        "id": "SJC11viJfqeW"
      },
      "execution_count": 27,
      "outputs": []
    }
  ],
  "metadata": {
    "accelerator": "GPU",
    "colab": {
      "provenance": [],
      "authorship_tag": "ABX9TyNOHur8b6CO9LMRs8+6HkSL",
      "include_colab_link": true
    },
    "kernelspec": {
      "display_name": "Python 3",
      "name": "python3"
    },
    "language_info": {
      "name": "python"
    }
  },
  "nbformat": 4,
  "nbformat_minor": 0
}