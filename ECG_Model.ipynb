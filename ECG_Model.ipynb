{
  "cells": [
    {
      "cell_type": "markdown",
      "metadata": {
        "id": "view-in-github",
        "colab_type": "text"
      },
      "source": [
        "<a href=\"https://colab.research.google.com/github/Khaled97Otour/ECG_Model/blob/main/ECG_Model.ipynb\" target=\"_parent\"><img src=\"https://colab.research.google.com/assets/colab-badge.svg\" alt=\"Open In Colab\"/></a>"
      ]
    },
    {
      "cell_type": "code",
      "execution_count": 1,
      "metadata": {
        "colab": {
          "base_uri": "https://localhost:8080/"
        },
        "id": "7__HF60r9YzR",
        "outputId": "8dd88fb9-1cf8-4ea8-c01a-89cc88892ac6"
      },
      "outputs": [
        {
          "output_type": "stream",
          "name": "stdout",
          "text": [
            "Looking in indexes: https://pypi.org/simple, https://us-python.pkg.dev/colab-wheels/public/simple/\n",
            "Requirement already satisfied: keras in /usr/local/lib/python3.7/dist-packages (2.8.0)\n"
          ]
        }
      ],
      "source": [
        "pip install keras"
      ]
    },
    {
      "cell_type": "code",
      "execution_count": 2,
      "metadata": {
        "colab": {
          "base_uri": "https://localhost:8080/"
        },
        "id": "gFuj55vj9cmX",
        "outputId": "ef4282c5-7f4c-4481-a3d5-47928673eb21"
      },
      "outputs": [
        {
          "output_type": "stream",
          "name": "stdout",
          "text": [
            "Looking in indexes: https://pypi.org/simple, https://us-python.pkg.dev/colab-wheels/public/simple/\n",
            "Requirement already satisfied: tensorflow in /usr/local/lib/python3.7/dist-packages (2.8.2+zzzcolab20220719082949)\n",
            "Requirement already satisfied: tensorflow-io-gcs-filesystem>=0.23.1 in /usr/local/lib/python3.7/dist-packages (from tensorflow) (0.26.0)\n",
            "Requirement already satisfied: typing-extensions>=3.6.6 in /usr/local/lib/python3.7/dist-packages (from tensorflow) (4.1.1)\n",
            "Requirement already satisfied: keras<2.9,>=2.8.0rc0 in /usr/local/lib/python3.7/dist-packages (from tensorflow) (2.8.0)\n",
            "Requirement already satisfied: numpy>=1.20 in /usr/local/lib/python3.7/dist-packages (from tensorflow) (1.21.6)\n",
            "Requirement already satisfied: wrapt>=1.11.0 in /usr/local/lib/python3.7/dist-packages (from tensorflow) (1.14.1)\n",
            "Requirement already satisfied: h5py>=2.9.0 in /usr/local/lib/python3.7/dist-packages (from tensorflow) (3.1.0)\n",
            "Requirement already satisfied: protobuf<3.20,>=3.9.2 in /usr/local/lib/python3.7/dist-packages (from tensorflow) (3.17.3)\n",
            "Requirement already satisfied: keras-preprocessing>=1.1.1 in /usr/local/lib/python3.7/dist-packages (from tensorflow) (1.1.2)\n",
            "Requirement already satisfied: tensorboard<2.9,>=2.8 in /usr/local/lib/python3.7/dist-packages (from tensorflow) (2.8.0)\n",
            "Requirement already satisfied: flatbuffers>=1.12 in /usr/local/lib/python3.7/dist-packages (from tensorflow) (2.0.7)\n",
            "Requirement already satisfied: absl-py>=0.4.0 in /usr/local/lib/python3.7/dist-packages (from tensorflow) (1.2.0)\n",
            "Requirement already satisfied: six>=1.12.0 in /usr/local/lib/python3.7/dist-packages (from tensorflow) (1.15.0)\n",
            "Requirement already satisfied: astunparse>=1.6.0 in /usr/local/lib/python3.7/dist-packages (from tensorflow) (1.6.3)\n",
            "Requirement already satisfied: google-pasta>=0.1.1 in /usr/local/lib/python3.7/dist-packages (from tensorflow) (0.2.0)\n",
            "Requirement already satisfied: termcolor>=1.1.0 in /usr/local/lib/python3.7/dist-packages (from tensorflow) (1.1.0)\n",
            "Requirement already satisfied: gast>=0.2.1 in /usr/local/lib/python3.7/dist-packages (from tensorflow) (0.5.3)\n",
            "Requirement already satisfied: setuptools in /usr/local/lib/python3.7/dist-packages (from tensorflow) (57.4.0)\n",
            "Requirement already satisfied: grpcio<2.0,>=1.24.3 in /usr/local/lib/python3.7/dist-packages (from tensorflow) (1.47.0)\n",
            "Requirement already satisfied: opt-einsum>=2.3.2 in /usr/local/lib/python3.7/dist-packages (from tensorflow) (3.3.0)\n",
            "Requirement already satisfied: tensorflow-estimator<2.9,>=2.8 in /usr/local/lib/python3.7/dist-packages (from tensorflow) (2.8.0)\n",
            "Requirement already satisfied: libclang>=9.0.1 in /usr/local/lib/python3.7/dist-packages (from tensorflow) (14.0.6)\n",
            "Requirement already satisfied: wheel<1.0,>=0.23.0 in /usr/local/lib/python3.7/dist-packages (from astunparse>=1.6.0->tensorflow) (0.37.1)\n",
            "Requirement already satisfied: cached-property in /usr/local/lib/python3.7/dist-packages (from h5py>=2.9.0->tensorflow) (1.5.2)\n",
            "Requirement already satisfied: requests<3,>=2.21.0 in /usr/local/lib/python3.7/dist-packages (from tensorboard<2.9,>=2.8->tensorflow) (2.23.0)\n",
            "Requirement already satisfied: tensorboard-plugin-wit>=1.6.0 in /usr/local/lib/python3.7/dist-packages (from tensorboard<2.9,>=2.8->tensorflow) (1.8.1)\n",
            "Requirement already satisfied: tensorboard-data-server<0.7.0,>=0.6.0 in /usr/local/lib/python3.7/dist-packages (from tensorboard<2.9,>=2.8->tensorflow) (0.6.1)\n",
            "Requirement already satisfied: werkzeug>=0.11.15 in /usr/local/lib/python3.7/dist-packages (from tensorboard<2.9,>=2.8->tensorflow) (1.0.1)\n",
            "Requirement already satisfied: google-auth<3,>=1.6.3 in /usr/local/lib/python3.7/dist-packages (from tensorboard<2.9,>=2.8->tensorflow) (1.35.0)\n",
            "Requirement already satisfied: markdown>=2.6.8 in /usr/local/lib/python3.7/dist-packages (from tensorboard<2.9,>=2.8->tensorflow) (3.4.1)\n",
            "Requirement already satisfied: google-auth-oauthlib<0.5,>=0.4.1 in /usr/local/lib/python3.7/dist-packages (from tensorboard<2.9,>=2.8->tensorflow) (0.4.6)\n",
            "Requirement already satisfied: cachetools<5.0,>=2.0.0 in /usr/local/lib/python3.7/dist-packages (from google-auth<3,>=1.6.3->tensorboard<2.9,>=2.8->tensorflow) (4.2.4)\n",
            "Requirement already satisfied: rsa<5,>=3.1.4 in /usr/local/lib/python3.7/dist-packages (from google-auth<3,>=1.6.3->tensorboard<2.9,>=2.8->tensorflow) (4.9)\n",
            "Requirement already satisfied: pyasn1-modules>=0.2.1 in /usr/local/lib/python3.7/dist-packages (from google-auth<3,>=1.6.3->tensorboard<2.9,>=2.8->tensorflow) (0.2.8)\n",
            "Requirement already satisfied: requests-oauthlib>=0.7.0 in /usr/local/lib/python3.7/dist-packages (from google-auth-oauthlib<0.5,>=0.4.1->tensorboard<2.9,>=2.8->tensorflow) (1.3.1)\n",
            "Requirement already satisfied: importlib-metadata>=4.4 in /usr/local/lib/python3.7/dist-packages (from markdown>=2.6.8->tensorboard<2.9,>=2.8->tensorflow) (4.12.0)\n",
            "Requirement already satisfied: zipp>=0.5 in /usr/local/lib/python3.7/dist-packages (from importlib-metadata>=4.4->markdown>=2.6.8->tensorboard<2.9,>=2.8->tensorflow) (3.8.1)\n",
            "Requirement already satisfied: pyasn1<0.5.0,>=0.4.6 in /usr/local/lib/python3.7/dist-packages (from pyasn1-modules>=0.2.1->google-auth<3,>=1.6.3->tensorboard<2.9,>=2.8->tensorflow) (0.4.8)\n",
            "Requirement already satisfied: idna<3,>=2.5 in /usr/local/lib/python3.7/dist-packages (from requests<3,>=2.21.0->tensorboard<2.9,>=2.8->tensorflow) (2.10)\n",
            "Requirement already satisfied: urllib3!=1.25.0,!=1.25.1,<1.26,>=1.21.1 in /usr/local/lib/python3.7/dist-packages (from requests<3,>=2.21.0->tensorboard<2.9,>=2.8->tensorflow) (1.24.3)\n",
            "Requirement already satisfied: certifi>=2017.4.17 in /usr/local/lib/python3.7/dist-packages (from requests<3,>=2.21.0->tensorboard<2.9,>=2.8->tensorflow) (2022.6.15)\n",
            "Requirement already satisfied: chardet<4,>=3.0.2 in /usr/local/lib/python3.7/dist-packages (from requests<3,>=2.21.0->tensorboard<2.9,>=2.8->tensorflow) (3.0.4)\n",
            "Requirement already satisfied: oauthlib>=3.0.0 in /usr/local/lib/python3.7/dist-packages (from requests-oauthlib>=0.7.0->google-auth-oauthlib<0.5,>=0.4.1->tensorboard<2.9,>=2.8->tensorflow) (3.2.0)\n"
          ]
        }
      ],
      "source": [
        "pip install tensorflow"
      ]
    },
    {
      "cell_type": "code",
      "execution_count": 3,
      "metadata": {
        "id": "AeWXQVOZXOPM"
      },
      "outputs": [],
      "source": [
        "import keras\n",
        "import tensorflow as tf\n",
        "from keras.models import Sequential\n",
        "from keras.models import load_model\n",
        "from keras.layers import Conv1D, BatchNormalization,MaxPool1D, GlobalMaxPool1D\n",
        "from keras.layers import TimeDistributed, GRU, Dense, Dropout, Masking, Embedding, LSTM ,Flatten\n",
        "from keras.layers import Input, Conv1D, DepthwiseConv1D,GlobalMaxPool1D,\\\n",
        "      Dense, Concatenate, Add, ReLU, BatchNormalization, AvgPool1D,MaxPool1D,\\\n",
        "      GlobalAvgPool1D, Reshape, Permute, Lambda, Activation,RepeatVector\n",
        "from keras import layers\n",
        "from keras import models\n",
        "import keras.backend as K\n",
        "from keras.models import Model\n",
        "import keras.backend as K\n",
        "import random\n",
        "import math\n",
        "import numpy as np\n",
        "import pandas as pd\n",
        "import matplotlib.pyplot as plt\n",
        "import scipy, matplotlib\n",
        "import csv\n",
        "from scipy.fft import ifft,rfft\n",
        "from tensorflow.keras.callbacks import EarlyStopping, ModelCheckpoint, ReduceLROnPlateau"
      ]
    },
    {
      "cell_type": "code",
      "execution_count": 4,
      "metadata": {
        "colab": {
          "base_uri": "https://localhost:8080/"
        },
        "id": "2j5kbrHtlpCU",
        "outputId": "f747a56f-4b87-43a3-b5cd-8dbcdd1b7a8e"
      },
      "outputs": [
        {
          "output_type": "stream",
          "name": "stdout",
          "text": [
            "Drive already mounted at /content/drive; to attempt to forcibly remount, call drive.mount(\"/content/drive\", force_remount=True).\n"
          ]
        }
      ],
      "source": [
        "from google.colab import drive\n",
        "drive.mount('/content/drive')"
      ]
    },
    {
      "cell_type": "code",
      "execution_count": 5,
      "metadata": {
        "id": "cslJwhqIFl5x"
      },
      "outputs": [],
      "source": [
        "def Import_data(x,y):\n",
        "  # read the files and build a dataset \n",
        "  # after processing the input signals\n",
        "  rows = []\n",
        "  rows1= []\n",
        "  for row in x:\n",
        "    rows.append(row)\n",
        "  for row1 in y:\n",
        "    rows1.append(row1)\n",
        "  raw_normal_signals=np.asarray(rows)\n",
        "  raw_Abnormal_signals=np.asarray(rows1)\n",
        "  return raw_normal_signals,raw_Abnormal_signals\n"
      ]
    },
    {
      "cell_type": "code",
      "execution_count": 6,
      "metadata": {
        "id": "KKPJQPN4lUXh"
      },
      "outputs": [],
      "source": [
        "def signal_pre_processing(x,y):\n",
        "  # in this function I use for loops to help me filtering the signals and delete the high frequnce noice\n",
        "  # taking in mind the range of the signals and the length \n",
        "  # side_note: this process could be used in any code to help clean any ECG dataset \n",
        "  s1=[]\n",
        "  s2=[]\n",
        "  l=x.shape[0]\n",
        "  ll=y.shape[0]\n",
        "  for i in range(l):\n",
        "    b=scipy.fft.fft (x[i])\n",
        "    for i in range(188) :\n",
        "      if b[i].real >=8:\n",
        "        b[i]=0\n",
        "      if b[i].real <=-8:\n",
        "        b[i]=0\n",
        "    b=scipy.fft.ifft(b)\n",
        "    s1.append(b)\n",
        "  for i in range(ll):\n",
        "    B=scipy.fft.fft (y[i])\n",
        "    for i in range(188) :\n",
        "      if B[i].real >=8:\n",
        "        B[i]=0\n",
        "      if B[i].real <=-8:\n",
        "        B[i]=0\n",
        "    B=scipy.fft.ifft(B)\n",
        "    s2.append(B)\n",
        "  Normal_signals=np.asarray(s1)\n",
        "  AbNormal_signals=np.asarray(s2)\n",
        "  return Normal_signals,AbNormal_signals"
      ]
    },
    {
      "cell_type": "code",
      "execution_count": 7,
      "metadata": {
        "id": "iQuu-Zy8lfrA"
      },
      "outputs": [],
      "source": [
        "def Do_dataset(x,y):\n",
        "  # building dataset after cleaning all the signals and establish a dataframe as well as define a colume of labels.\n",
        "  l=x.shape[0]\n",
        "  ll=y.shape[0]\n",
        "  number=[]\n",
        "  signals=[]\n",
        "  for i in range(l):\n",
        "    signals.append(x[i])\n",
        "    number.append(0)\n",
        "  for i in range(ll):\n",
        "    signals.append(y[i])\n",
        "    number.append(1)\n",
        "  numbers=np.asarray(number)\n",
        "  # constructe dataset using data frame \n",
        "  my_series=pd.Series(data=signals,name='signals')\n",
        "  data=pd.DataFrame(my_series)\n",
        "  data['label']=numbers\n",
        "  return data"
      ]
    },
    {
      "cell_type": "code",
      "execution_count": 8,
      "metadata": {
        "id": "a1t9vyzqKZxS"
      },
      "outputs": [],
      "source": [
        "def load_signal_label(x):\n",
        "  signals = []\n",
        "  label = []\n",
        "  Signals_data=[]\n",
        "  for i in range(len(x)):\n",
        "    indexed_data = x.iloc[i]\n",
        "    ff = indexed_data['signals']\n",
        "    i = 0\n",
        "    signals.append(indexed_data['signals'])\n",
        "    label.append(indexed_data['label'])\n",
        "  signals = np.asarray(signals)\n",
        "  label   = np.asarray(label)\n",
        "  return signals, label"
      ]
    },
    {
      "cell_type": "code",
      "execution_count": 9,
      "metadata": {
        "id": "O1VEdFiBIuf5"
      },
      "outputs": [],
      "source": [
        "def data_gen(x,y):\n",
        "  batch_signals = []\n",
        "  batch_label = []\n",
        "  # steps \n",
        "  for i in range(len(x)):\n",
        "    sig=x[i]\n",
        "    sig = np.expand_dims(sig, axis=-1)\n",
        "    batch_signals.append(sig)\n",
        "    labell =y[i]\n",
        "    batch_label.append(labell)\n",
        "  A=np.asarray(batch_signals)\n",
        "  B=np.asarray(batch_label)\n",
        "  return A, B"
      ]
    },
    {
      "cell_type": "code",
      "source": [
        "def data_scaling (x):\n",
        "  Signals = []\n",
        "  X       = []\n",
        "  for i in range(len(x)):\n",
        "    for j in range (188):\n",
        "      x[i][j]=(x[i][j]-x[i].min())/(x[i].max()-x[i].min())\n",
        "      X.append(x[i][j])\n",
        "    Signals.append(X)\n",
        "  Signals = np.asarray(Signals)\n",
        "  return Signals"
      ],
      "metadata": {
        "id": "vJcIdmPZNWAH"
      },
      "execution_count": 10,
      "outputs": []
    },
    {
      "cell_type": "code",
      "execution_count": 11,
      "metadata": {
        "id": "C1cujWi9MnSw"
      },
      "outputs": [],
      "source": [
        "def steps(x):\n",
        "  Signals=[]\n",
        "  for i in range(len(x)):\n",
        "    X = x[i]\n",
        "    X = np.expand_dims(X, axis=0)\n",
        "    X = np.resize(X,[10,188])\n",
        "    n=0\n",
        "    Z=[]\n",
        "    for j in range(10):\n",
        "      step=n+10\n",
        "      Y=X[j]\n",
        "      for k in range(188):\n",
        "        if k<=step and k>n:\n",
        "          Y[k]=Y[k]\n",
        "        else:\n",
        "          Y[k]=0\n",
        "      n=n+18\n",
        "      Z.append(Y)\n",
        "    Signals.append(Z)\n",
        "  Signals=np.asarray(Signals)\n",
        "  return Signals"
      ]
    },
    {
      "cell_type": "code",
      "execution_count": 12,
      "metadata": {
        "id": "lJcZAKv4jNuV"
      },
      "outputs": [],
      "source": [
        "file = open(r'/content/drive/MyDrive/Colab Notebooks/ECG Signal /ptbdb_normal.csv')\n",
        "csvreader = csv.reader(file)\n",
        "file1 = open(r'/content/drive/MyDrive/Colab Notebooks/ECG Signal /ptbdb_abnormal.csv')\n",
        "csvreader1 = csv.reader(file1)\n"
      ]
    },
    {
      "cell_type": "code",
      "execution_count": 13,
      "metadata": {
        "id": "aWOvdTA8EBdI"
      },
      "outputs": [],
      "source": [
        "Normal,AbNormal= Import_data(csvreader,csvreader1)"
      ]
    },
    {
      "cell_type": "code",
      "execution_count": 14,
      "metadata": {
        "id": "cJpXNPX3D7u5"
      },
      "outputs": [],
      "source": [
        "normal,Abnormal= signal_pre_processing(Normal,AbNormal)"
      ]
    },
    {
      "cell_type": "code",
      "execution_count": 15,
      "metadata": {
        "id": "diUDEwUKEAqr",
        "colab": {
          "base_uri": "https://localhost:8080/"
        },
        "outputId": "01a6c790-f2ae-4d41-b727-15a4c9568abc"
      },
      "outputs": [
        {
          "output_type": "execute_result",
          "data": {
            "text/plain": [
              "(14552, 188)"
            ]
          },
          "metadata": {},
          "execution_count": 15
        }
      ],
      "source": [
        "Dataset= Do_dataset(normal,Abnormal)\n",
        "Signals, label= load_signal_label(Dataset)\n",
        "#Signals = data_scaling(Signals)\n",
        "Signals.shape "
      ]
    },
    {
      "cell_type": "code",
      "execution_count": 16,
      "metadata": {
        "id": "nRKfZP9NNaNC"
      },
      "outputs": [],
      "source": [
        "Signals=steps(Signals)\n",
        "xx_train_gen, yy_train_gen = data_gen(Signals, label)"
      ]
    },
    {
      "cell_type": "code",
      "execution_count": 17,
      "metadata": {
        "colab": {
          "base_uri": "https://localhost:8080/",
          "height": 423
        },
        "id": "XeLVRJk5IlmU",
        "outputId": "1304bc1a-5a3d-4d68-d8a4-73da98cfd32b"
      },
      "outputs": [
        {
          "output_type": "execute_result",
          "data": {
            "text/plain": [
              "                                                 signals  label\n",
              "0      [(0.8814269457646506+0j), (0.781751111585726-1...      0\n",
              "1      [(0.7626284556067051+0j), (0.5573099450743261-...      0\n",
              "2      [(0.746369916851573+0j), (0.628823060448222-1....      0\n",
              "3      [(0.9268670122267956+0j), (0.4057603518607373-...      0\n",
              "4      [(0.8985901580172332+0j), (0.7658285007792268-...      0\n",
              "...                                                  ...    ...\n",
              "14547  [(0.8376090676923766+0j), (0.8562004120489136+...      1\n",
              "14548  [(0.5157839059733816+0j), (0.5206110217705371-...      1\n",
              "14549  [(0.7602951799819148+0j), (0.6248058047966818-...      1\n",
              "14550  [(0.7209435549110979+0j), (0.7022499980736755-...      1\n",
              "14551  [(0.9137690492504413+0j), (0.6162003703945454-...      1\n",
              "\n",
              "[14552 rows x 2 columns]"
            ],
            "text/html": [
              "\n",
              "  <div id=\"df-b61bba01-c012-4ea0-b3da-a359a0ea85bc\">\n",
              "    <div class=\"colab-df-container\">\n",
              "      <div>\n",
              "<style scoped>\n",
              "    .dataframe tbody tr th:only-of-type {\n",
              "        vertical-align: middle;\n",
              "    }\n",
              "\n",
              "    .dataframe tbody tr th {\n",
              "        vertical-align: top;\n",
              "    }\n",
              "\n",
              "    .dataframe thead th {\n",
              "        text-align: right;\n",
              "    }\n",
              "</style>\n",
              "<table border=\"1\" class=\"dataframe\">\n",
              "  <thead>\n",
              "    <tr style=\"text-align: right;\">\n",
              "      <th></th>\n",
              "      <th>signals</th>\n",
              "      <th>label</th>\n",
              "    </tr>\n",
              "  </thead>\n",
              "  <tbody>\n",
              "    <tr>\n",
              "      <th>0</th>\n",
              "      <td>[(0.8814269457646506+0j), (0.781751111585726-1...</td>\n",
              "      <td>0</td>\n",
              "    </tr>\n",
              "    <tr>\n",
              "      <th>1</th>\n",
              "      <td>[(0.7626284556067051+0j), (0.5573099450743261-...</td>\n",
              "      <td>0</td>\n",
              "    </tr>\n",
              "    <tr>\n",
              "      <th>2</th>\n",
              "      <td>[(0.746369916851573+0j), (0.628823060448222-1....</td>\n",
              "      <td>0</td>\n",
              "    </tr>\n",
              "    <tr>\n",
              "      <th>3</th>\n",
              "      <td>[(0.9268670122267956+0j), (0.4057603518607373-...</td>\n",
              "      <td>0</td>\n",
              "    </tr>\n",
              "    <tr>\n",
              "      <th>4</th>\n",
              "      <td>[(0.8985901580172332+0j), (0.7658285007792268-...</td>\n",
              "      <td>0</td>\n",
              "    </tr>\n",
              "    <tr>\n",
              "      <th>...</th>\n",
              "      <td>...</td>\n",
              "      <td>...</td>\n",
              "    </tr>\n",
              "    <tr>\n",
              "      <th>14547</th>\n",
              "      <td>[(0.8376090676923766+0j), (0.8562004120489136+...</td>\n",
              "      <td>1</td>\n",
              "    </tr>\n",
              "    <tr>\n",
              "      <th>14548</th>\n",
              "      <td>[(0.5157839059733816+0j), (0.5206110217705371-...</td>\n",
              "      <td>1</td>\n",
              "    </tr>\n",
              "    <tr>\n",
              "      <th>14549</th>\n",
              "      <td>[(0.7602951799819148+0j), (0.6248058047966818-...</td>\n",
              "      <td>1</td>\n",
              "    </tr>\n",
              "    <tr>\n",
              "      <th>14550</th>\n",
              "      <td>[(0.7209435549110979+0j), (0.7022499980736755-...</td>\n",
              "      <td>1</td>\n",
              "    </tr>\n",
              "    <tr>\n",
              "      <th>14551</th>\n",
              "      <td>[(0.9137690492504413+0j), (0.6162003703945454-...</td>\n",
              "      <td>1</td>\n",
              "    </tr>\n",
              "  </tbody>\n",
              "</table>\n",
              "<p>14552 rows × 2 columns</p>\n",
              "</div>\n",
              "      <button class=\"colab-df-convert\" onclick=\"convertToInteractive('df-b61bba01-c012-4ea0-b3da-a359a0ea85bc')\"\n",
              "              title=\"Convert this dataframe to an interactive table.\"\n",
              "              style=\"display:none;\">\n",
              "        \n",
              "  <svg xmlns=\"http://www.w3.org/2000/svg\" height=\"24px\"viewBox=\"0 0 24 24\"\n",
              "       width=\"24px\">\n",
              "    <path d=\"M0 0h24v24H0V0z\" fill=\"none\"/>\n",
              "    <path d=\"M18.56 5.44l.94 2.06.94-2.06 2.06-.94-2.06-.94-.94-2.06-.94 2.06-2.06.94zm-11 1L8.5 8.5l.94-2.06 2.06-.94-2.06-.94L8.5 2.5l-.94 2.06-2.06.94zm10 10l.94 2.06.94-2.06 2.06-.94-2.06-.94-.94-2.06-.94 2.06-2.06.94z\"/><path d=\"M17.41 7.96l-1.37-1.37c-.4-.4-.92-.59-1.43-.59-.52 0-1.04.2-1.43.59L10.3 9.45l-7.72 7.72c-.78.78-.78 2.05 0 2.83L4 21.41c.39.39.9.59 1.41.59.51 0 1.02-.2 1.41-.59l7.78-7.78 2.81-2.81c.8-.78.8-2.07 0-2.86zM5.41 20L4 18.59l7.72-7.72 1.47 1.35L5.41 20z\"/>\n",
              "  </svg>\n",
              "      </button>\n",
              "      \n",
              "  <style>\n",
              "    .colab-df-container {\n",
              "      display:flex;\n",
              "      flex-wrap:wrap;\n",
              "      gap: 12px;\n",
              "    }\n",
              "\n",
              "    .colab-df-convert {\n",
              "      background-color: #E8F0FE;\n",
              "      border: none;\n",
              "      border-radius: 50%;\n",
              "      cursor: pointer;\n",
              "      display: none;\n",
              "      fill: #1967D2;\n",
              "      height: 32px;\n",
              "      padding: 0 0 0 0;\n",
              "      width: 32px;\n",
              "    }\n",
              "\n",
              "    .colab-df-convert:hover {\n",
              "      background-color: #E2EBFA;\n",
              "      box-shadow: 0px 1px 2px rgba(60, 64, 67, 0.3), 0px 1px 3px 1px rgba(60, 64, 67, 0.15);\n",
              "      fill: #174EA6;\n",
              "    }\n",
              "\n",
              "    [theme=dark] .colab-df-convert {\n",
              "      background-color: #3B4455;\n",
              "      fill: #D2E3FC;\n",
              "    }\n",
              "\n",
              "    [theme=dark] .colab-df-convert:hover {\n",
              "      background-color: #434B5C;\n",
              "      box-shadow: 0px 1px 3px 1px rgba(0, 0, 0, 0.15);\n",
              "      filter: drop-shadow(0px 1px 2px rgba(0, 0, 0, 0.3));\n",
              "      fill: #FFFFFF;\n",
              "    }\n",
              "  </style>\n",
              "\n",
              "      <script>\n",
              "        const buttonEl =\n",
              "          document.querySelector('#df-b61bba01-c012-4ea0-b3da-a359a0ea85bc button.colab-df-convert');\n",
              "        buttonEl.style.display =\n",
              "          google.colab.kernel.accessAllowed ? 'block' : 'none';\n",
              "\n",
              "        async function convertToInteractive(key) {\n",
              "          const element = document.querySelector('#df-b61bba01-c012-4ea0-b3da-a359a0ea85bc');\n",
              "          const dataTable =\n",
              "            await google.colab.kernel.invokeFunction('convertToInteractive',\n",
              "                                                     [key], {});\n",
              "          if (!dataTable) return;\n",
              "\n",
              "          const docLinkHtml = 'Like what you see? Visit the ' +\n",
              "            '<a target=\"_blank\" href=https://colab.research.google.com/notebooks/data_table.ipynb>data table notebook</a>'\n",
              "            + ' to learn more about interactive tables.';\n",
              "          element.innerHTML = '';\n",
              "          dataTable['output_type'] = 'display_data';\n",
              "          await google.colab.output.renderOutput(dataTable, element);\n",
              "          const docLink = document.createElement('div');\n",
              "          docLink.innerHTML = docLinkHtml;\n",
              "          element.appendChild(docLink);\n",
              "        }\n",
              "      </script>\n",
              "    </div>\n",
              "  </div>\n",
              "  "
            ]
          },
          "metadata": {},
          "execution_count": 17
        }
      ],
      "source": [
        "Dataset"
      ]
    },
    {
      "cell_type": "code",
      "source": [
        "\n"
      ],
      "metadata": {
        "id": "0CD4UoNRNDKx"
      },
      "execution_count": 17,
      "outputs": []
    },
    {
      "cell_type": "code",
      "source": [
        "Signals[0].shape"
      ],
      "metadata": {
        "colab": {
          "base_uri": "https://localhost:8080/"
        },
        "id": "1TKD3nKuOMMQ",
        "outputId": "f9d31df7-a43f-46f0-9cd7-d64710b1a02b"
      },
      "execution_count": 18,
      "outputs": [
        {
          "output_type": "execute_result",
          "data": {
            "text/plain": [
              "(10, 188)"
            ]
          },
          "metadata": {},
          "execution_count": 18
        }
      ]
    },
    {
      "cell_type": "code",
      "execution_count": 19,
      "metadata": {
        "colab": {
          "base_uri": "https://localhost:8080/"
        },
        "id": "crHPwQTGLcVq",
        "outputId": "94374fa2-d996-4334-9d70-e459e79ee58a"
      },
      "outputs": [
        {
          "output_type": "stream",
          "name": "stdout",
          "text": [
            "(14552, 10, 188, 1)\n"
          ]
        }
      ],
      "source": [
        "print(xx_train_gen.shape)"
      ]
    },
    {
      "cell_type": "code",
      "execution_count": 20,
      "metadata": {
        "id": "_AeIWGOzzfHG"
      },
      "outputs": [],
      "source": [
        "def action_model(shape=(10,188, 1), nbout=2):\n",
        "    \n",
        "  def Convnet(shape=(188,1)):\n",
        "    model= Sequential()\n",
        "    model.add(Conv1D(32,3,input_shape=shape,strides=1,padding='same', activation='relu'))\n",
        "\n",
        "    model.add(MaxPool1D(pool_size=2))\n",
        "\n",
        "    model.add(Conv1D(64,5,strides=1,padding='same', activation='relu'))\n",
        "    \n",
        "    model.add(MaxPool1D(pool_size=2))\n",
        "\n",
        "    model.add(Conv1D(128,7,input_shape=shape,strides=1,padding='same', activation='relu'))\n",
        "  \n",
        "    model.add(MaxPool1D(pool_size=2))\n",
        "\n",
        "    model.add(Conv1D(256,9,input_shape=shape,strides=1,padding='same', activation='relu'))\n",
        "\n",
        "    model.add(MaxPool1D(pool_size=2))\n",
        "\n",
        "    model.add(GlobalMaxPool1D())\n",
        "    return model\n",
        "\n",
        "  model= Sequential()\n",
        "\n",
        "  model.add(TimeDistributed(Convnet(shape[1:]),input_shape=shape))\n",
        "  model.add(LSTM(64))\n",
        "  model.add(Dense(1024, activation='sigmoid'))\n",
        "  model.add(BatchNormalization())\n",
        "\n",
        "  model.add(Dense(512, activation='sigmoid'))\n",
        "  model.add(BatchNormalization())\n",
        "\n",
        "  model.add(Dense(256, activation='sigmoid'))\n",
        "  model.add(BatchNormalization())\n",
        "\n",
        "  model.add(Dense(128, activation='sigmoid'))\n",
        "  model.add(BatchNormalization())\n",
        "\n",
        "  model.add(Dense(64, activation='sigmoid'))\n",
        "  model.add(BatchNormalization())\n",
        "\n",
        "  model.add(Dense(32, activation='sigmoid'))\n",
        "  model.add(BatchNormalization())\n",
        "  model.add(Dropout(0.5))\n",
        "  model.add(Dense(1, activation='sigmoid'))\n",
        "  return model"
      ]
    },
    {
      "cell_type": "code",
      "execution_count": 21,
      "metadata": {
        "colab": {
          "base_uri": "https://localhost:8080/"
        },
        "id": "xN100am75ZRr",
        "outputId": "8b0713a0-6f5a-474b-cb95-24d1a4f9f2b7"
      },
      "outputs": [
        {
          "output_type": "stream",
          "name": "stdout",
          "text": [
            "(10, 188, 1)\n"
          ]
        }
      ],
      "source": [
        "signal_dim = (188,1)\n",
        "steps= (10) \n",
        "classes = 2\n",
        "INPUT_SHAPE= (steps,)+signal_dim\n",
        "print(INPUT_SHAPE)\n",
        "model = action_model(INPUT_SHAPE, 2)\n"
      ]
    },
    {
      "cell_type": "code",
      "execution_count": 22,
      "metadata": {
        "id": "Oz8A6XrYrr_8"
      },
      "outputs": [],
      "source": [
        "from sklearn.model_selection import train_test_split\n",
        "# Split the data\n",
        "x_Data, x_valid, y_Data, y_valid = train_test_split(xx_train_gen, yy_train_gen, test_size=0.33, shuffle= True)"
      ]
    },
    {
      "cell_type": "code",
      "source": [
        "x_train, x_test, y_train, y_test = train_test_split(x_Data, y_Data, test_size=0.33, shuffle= True)"
      ],
      "metadata": {
        "id": "LbO5EjK1kyCL"
      },
      "execution_count": 23,
      "outputs": []
    },
    {
      "cell_type": "code",
      "source": [
        "optimizer = tf.keras.optimizers.Adam()\n",
        "model.compile(\n",
        "    optimizer,\n",
        "    'binary_crossentropy',\n",
        "    metrics=['accuracy']\n",
        ")\n",
        "# Defining Callbacks\n",
        "\n",
        "filepath = './best_weights.hdf5'\n",
        "\n",
        "earlystopping = EarlyStopping(monitor = 'val_loss', \n",
        "                              mode = 'auto' , \n",
        "                              patience = 15,\n",
        "                              verbose = 1)\n",
        "\n",
        "checkpoint    = ModelCheckpoint(filepath, \n",
        "                                monitor = 'val_loss', \n",
        "                                mode='auto', \n",
        "                                save_best_only=True, \n",
        "                                verbose = 1)\n",
        "\n",
        "learning_rate = ReduceLROnPlateau(monitor = 'val_loss',\n",
        "                                  mode = 'auto',\n",
        "                                  patience = 5,\n",
        "                                  factor = 0.3,\n",
        "                                  min_delta = 0.00001)\n",
        "\n",
        "callback_list = [earlystopping, checkpoint,learning_rate ]"
      ],
      "metadata": {
        "id": "gOqToUd0k_Wi"
      },
      "execution_count": 24,
      "outputs": []
    },
    {
      "cell_type": "code",
      "execution_count": 25,
      "metadata": {
        "colab": {
          "base_uri": "https://localhost:8080/"
        },
        "id": "etsmLp1SM6ZK",
        "outputId": "7c33d962-6ef9-4283-965c-cefb59e8e0bc"
      },
      "outputs": [
        {
          "output_type": "stream",
          "name": "stdout",
          "text": [
            "Model: \"sequential\"\n",
            "_________________________________________________________________\n",
            " Layer (type)                Output Shape              Param #   \n",
            "=================================================================\n",
            " time_distributed (TimeDistr  (None, 10, 256)          363072    \n",
            " ibuted)                                                         \n",
            "                                                                 \n",
            " lstm (LSTM)                 (None, 64)                82176     \n",
            "                                                                 \n",
            " dense (Dense)               (None, 1024)              66560     \n",
            "                                                                 \n",
            " batch_normalization (BatchN  (None, 1024)             4096      \n",
            " ormalization)                                                   \n",
            "                                                                 \n",
            " dense_1 (Dense)             (None, 512)               524800    \n",
            "                                                                 \n",
            " batch_normalization_1 (Batc  (None, 512)              2048      \n",
            " hNormalization)                                                 \n",
            "                                                                 \n",
            " dense_2 (Dense)             (None, 256)               131328    \n",
            "                                                                 \n",
            " batch_normalization_2 (Batc  (None, 256)              1024      \n",
            " hNormalization)                                                 \n",
            "                                                                 \n",
            " dense_3 (Dense)             (None, 128)               32896     \n",
            "                                                                 \n",
            " batch_normalization_3 (Batc  (None, 128)              512       \n",
            " hNormalization)                                                 \n",
            "                                                                 \n",
            " dense_4 (Dense)             (None, 64)                8256      \n",
            "                                                                 \n",
            " batch_normalization_4 (Batc  (None, 64)               256       \n",
            " hNormalization)                                                 \n",
            "                                                                 \n",
            " dense_5 (Dense)             (None, 32)                2080      \n",
            "                                                                 \n",
            " batch_normalization_5 (Batc  (None, 32)               128       \n",
            " hNormalization)                                                 \n",
            "                                                                 \n",
            " dropout (Dropout)           (None, 32)                0         \n",
            "                                                                 \n",
            " dense_6 (Dense)             (None, 1)                 33        \n",
            "                                                                 \n",
            "=================================================================\n",
            "Total params: 1,219,265\n",
            "Trainable params: 1,215,233\n",
            "Non-trainable params: 4,032\n",
            "_________________________________________________________________\n",
            "None\n",
            "Epoch 1/500\n",
            "52/52 [==============================] - ETA: 0s - loss: 0.6981 - accuracy: 0.6592\n",
            "Epoch 1: val_loss improved from inf to 0.66072, saving model to ./best_weights.hdf5\n",
            "52/52 [==============================] - 10s 75ms/step - loss: 0.6981 - accuracy: 0.6592 - val_loss: 0.6607 - val_accuracy: 0.7144 - lr: 0.0010\n",
            "Epoch 2/500\n",
            "51/52 [============================>.] - ETA: 0s - loss: 0.5095 - accuracy: 0.7725\n",
            "Epoch 2: val_loss improved from 0.66072 to 0.60524, saving model to ./best_weights.hdf5\n",
            "52/52 [==============================] - 3s 53ms/step - loss: 0.5094 - accuracy: 0.7725 - val_loss: 0.6052 - val_accuracy: 0.7144 - lr: 0.0010\n",
            "Epoch 3/500\n",
            "52/52 [==============================] - ETA: 0s - loss: 0.4868 - accuracy: 0.7843\n",
            "Epoch 3: val_loss improved from 0.60524 to 0.59941, saving model to ./best_weights.hdf5\n",
            "52/52 [==============================] - 3s 53ms/step - loss: 0.4868 - accuracy: 0.7843 - val_loss: 0.5994 - val_accuracy: 0.7144 - lr: 0.0010\n",
            "Epoch 4/500\n",
            "51/52 [============================>.] - ETA: 0s - loss: 0.3876 - accuracy: 0.8372\n",
            "Epoch 4: val_loss did not improve from 0.59941\n",
            "52/52 [==============================] - 3s 50ms/step - loss: 0.3875 - accuracy: 0.8372 - val_loss: 0.6267 - val_accuracy: 0.7144 - lr: 0.0010\n",
            "Epoch 5/500\n",
            "51/52 [============================>.] - ETA: 0s - loss: 0.3133 - accuracy: 0.8765\n",
            "Epoch 5: val_loss did not improve from 0.59941\n",
            "52/52 [==============================] - 3s 49ms/step - loss: 0.3133 - accuracy: 0.8764 - val_loss: 0.8419 - val_accuracy: 0.7144 - lr: 0.0010\n",
            "Epoch 6/500\n",
            "51/52 [============================>.] - ETA: 0s - loss: 0.5064 - accuracy: 0.7725\n",
            "Epoch 6: val_loss did not improve from 0.59941\n",
            "52/52 [==============================] - 3s 49ms/step - loss: 0.5064 - accuracy: 0.7725 - val_loss: 0.7838 - val_accuracy: 0.7144 - lr: 0.0010\n",
            "Epoch 7/500\n",
            "52/52 [==============================] - ETA: 0s - loss: 0.3303 - accuracy: 0.8665\n",
            "Epoch 7: val_loss did not improve from 0.59941\n",
            "52/52 [==============================] - 3s 50ms/step - loss: 0.3303 - accuracy: 0.8665 - val_loss: 0.8991 - val_accuracy: 0.7144 - lr: 0.0010\n",
            "Epoch 8/500\n",
            "51/52 [============================>.] - ETA: 0s - loss: 0.2765 - accuracy: 0.8899\n",
            "Epoch 8: val_loss did not improve from 0.59941\n",
            "52/52 [==============================] - 3s 49ms/step - loss: 0.2764 - accuracy: 0.8899 - val_loss: 1.1466 - val_accuracy: 0.7144 - lr: 0.0010\n",
            "Epoch 9/500\n",
            "51/52 [============================>.] - ETA: 0s - loss: 0.1970 - accuracy: 0.9297\n",
            "Epoch 9: val_loss did not improve from 0.59941\n",
            "52/52 [==============================] - 3s 49ms/step - loss: 0.1973 - accuracy: 0.9296 - val_loss: 1.4208 - val_accuracy: 0.7144 - lr: 3.0000e-04\n",
            "Epoch 10/500\n",
            "51/52 [============================>.] - ETA: 0s - loss: 0.1760 - accuracy: 0.9410\n",
            "Epoch 10: val_loss did not improve from 0.59941\n",
            "52/52 [==============================] - 3s 49ms/step - loss: 0.1764 - accuracy: 0.9409 - val_loss: 1.1799 - val_accuracy: 0.7144 - lr: 3.0000e-04\n",
            "Epoch 11/500\n",
            "51/52 [============================>.] - ETA: 0s - loss: 0.1556 - accuracy: 0.9488\n",
            "Epoch 11: val_loss did not improve from 0.59941\n",
            "52/52 [==============================] - 3s 50ms/step - loss: 0.1555 - accuracy: 0.9489 - val_loss: 1.1008 - val_accuracy: 0.7144 - lr: 3.0000e-04\n",
            "Epoch 12/500\n",
            "51/52 [============================>.] - ETA: 0s - loss: 0.1484 - accuracy: 0.9501\n",
            "Epoch 12: val_loss did not improve from 0.59941\n",
            "52/52 [==============================] - 3s 49ms/step - loss: 0.1488 - accuracy: 0.9499 - val_loss: 0.7502 - val_accuracy: 0.6367 - lr: 3.0000e-04\n",
            "Epoch 13/500\n",
            "51/52 [============================>.] - ETA: 0s - loss: 0.1323 - accuracy: 0.9563\n",
            "Epoch 13: val_loss did not improve from 0.59941\n",
            "52/52 [==============================] - 3s 50ms/step - loss: 0.1323 - accuracy: 0.9564 - val_loss: 3.2285 - val_accuracy: 0.3024 - lr: 3.0000e-04\n",
            "Epoch 14/500\n",
            "51/52 [============================>.] - ETA: 0s - loss: 0.1056 - accuracy: 0.9695\n",
            "Epoch 14: val_loss did not improve from 0.59941\n",
            "52/52 [==============================] - 3s 50ms/step - loss: 0.1056 - accuracy: 0.9695 - val_loss: 1.4767 - val_accuracy: 0.4683 - lr: 9.0000e-05\n",
            "Epoch 15/500\n",
            "51/52 [============================>.] - ETA: 0s - loss: 0.0974 - accuracy: 0.9723\n",
            "Epoch 15: val_loss improved from 0.59941 to 0.12982, saving model to ./best_weights.hdf5\n",
            "52/52 [==============================] - 3s 52ms/step - loss: 0.0978 - accuracy: 0.9721 - val_loss: 0.1298 - val_accuracy: 0.9525 - lr: 9.0000e-05\n",
            "Epoch 16/500\n",
            "51/52 [============================>.] - ETA: 0s - loss: 0.1021 - accuracy: 0.9694\n",
            "Epoch 16: val_loss did not improve from 0.12982\n",
            "52/52 [==============================] - 3s 51ms/step - loss: 0.1029 - accuracy: 0.9692 - val_loss: 1.6028 - val_accuracy: 0.7144 - lr: 9.0000e-05\n",
            "Epoch 17/500\n",
            "51/52 [============================>.] - ETA: 0s - loss: 0.0991 - accuracy: 0.9743\n",
            "Epoch 17: val_loss did not improve from 0.12982\n",
            "52/52 [==============================] - 3s 50ms/step - loss: 0.0991 - accuracy: 0.9743 - val_loss: 1.2629 - val_accuracy: 0.7181 - lr: 9.0000e-05\n",
            "Epoch 18/500\n",
            "51/52 [============================>.] - ETA: 0s - loss: 0.0830 - accuracy: 0.9770\n",
            "Epoch 18: val_loss did not improve from 0.12982\n",
            "52/52 [==============================] - 3s 50ms/step - loss: 0.0830 - accuracy: 0.9770 - val_loss: 1.8645 - val_accuracy: 0.4975 - lr: 9.0000e-05\n",
            "Epoch 19/500\n",
            "51/52 [============================>.] - ETA: 0s - loss: 0.0827 - accuracy: 0.9776\n",
            "Epoch 19: val_loss did not improve from 0.12982\n",
            "52/52 [==============================] - 3s 50ms/step - loss: 0.0832 - accuracy: 0.9775 - val_loss: 1.7414 - val_accuracy: 0.7144 - lr: 9.0000e-05\n",
            "Epoch 20/500\n",
            "51/52 [============================>.] - ETA: 0s - loss: 0.0783 - accuracy: 0.9775\n",
            "Epoch 20: val_loss did not improve from 0.12982\n",
            "52/52 [==============================] - 3s 50ms/step - loss: 0.0783 - accuracy: 0.9775 - val_loss: 1.8649 - val_accuracy: 0.5068 - lr: 9.0000e-05\n",
            "Epoch 21/500\n",
            "52/52 [==============================] - ETA: 0s - loss: 0.0750 - accuracy: 0.9832\n",
            "Epoch 21: val_loss did not improve from 0.12982\n",
            "52/52 [==============================] - 3s 53ms/step - loss: 0.0750 - accuracy: 0.9832 - val_loss: 0.2254 - val_accuracy: 0.9142 - lr: 2.7000e-05\n",
            "Epoch 22/500\n",
            "51/52 [============================>.] - ETA: 0s - loss: 0.0843 - accuracy: 0.9763\n",
            "Epoch 22: val_loss did not improve from 0.12982\n",
            "52/52 [==============================] - 3s 52ms/step - loss: 0.0847 - accuracy: 0.9761 - val_loss: 1.9696 - val_accuracy: 0.5075 - lr: 2.7000e-05\n",
            "Epoch 23/500\n",
            "51/52 [============================>.] - ETA: 0s - loss: 0.1018 - accuracy: 0.9700\n",
            "Epoch 23: val_loss did not improve from 0.12982\n",
            "52/52 [==============================] - 3s 51ms/step - loss: 0.1018 - accuracy: 0.9700 - val_loss: 1.0286 - val_accuracy: 0.7032 - lr: 2.7000e-05\n",
            "Epoch 24/500\n",
            "51/52 [============================>.] - ETA: 0s - loss: 0.0783 - accuracy: 0.9796\n",
            "Epoch 24: val_loss improved from 0.12982 to 0.09352, saving model to ./best_weights.hdf5\n",
            "52/52 [==============================] - 3s 53ms/step - loss: 0.0786 - accuracy: 0.9795 - val_loss: 0.0935 - val_accuracy: 0.9689 - lr: 2.7000e-05\n",
            "Epoch 25/500\n",
            "52/52 [==============================] - ETA: 0s - loss: 0.0728 - accuracy: 0.9816\n",
            "Epoch 25: val_loss did not improve from 0.09352\n",
            "52/52 [==============================] - 3s 51ms/step - loss: 0.0728 - accuracy: 0.9816 - val_loss: 0.1111 - val_accuracy: 0.9593 - lr: 2.7000e-05\n",
            "Epoch 26/500\n",
            "52/52 [==============================] - ETA: 0s - loss: 0.0735 - accuracy: 0.9813\n",
            "Epoch 26: val_loss did not improve from 0.09352\n",
            "52/52 [==============================] - 3s 51ms/step - loss: 0.0735 - accuracy: 0.9813 - val_loss: 0.3873 - val_accuracy: 0.8409 - lr: 2.7000e-05\n",
            "Epoch 27/500\n",
            "51/52 [============================>.] - ETA: 0s - loss: 0.0864 - accuracy: 0.9749\n",
            "Epoch 27: val_loss did not improve from 0.09352\n",
            "52/52 [==============================] - 3s 51ms/step - loss: 0.0866 - accuracy: 0.9747 - val_loss: 1.1494 - val_accuracy: 0.7318 - lr: 2.7000e-05\n",
            "Epoch 28/500\n",
            "51/52 [============================>.] - ETA: 0s - loss: 0.0724 - accuracy: 0.9816\n",
            "Epoch 28: val_loss did not improve from 0.09352\n",
            "52/52 [==============================] - 3s 51ms/step - loss: 0.0730 - accuracy: 0.9815 - val_loss: 0.2392 - val_accuracy: 0.9074 - lr: 2.7000e-05\n",
            "Epoch 29/500\n",
            "51/52 [============================>.] - ETA: 0s - loss: 0.0831 - accuracy: 0.9735\n",
            "Epoch 29: val_loss did not improve from 0.09352\n",
            "52/52 [==============================] - 3s 51ms/step - loss: 0.0835 - accuracy: 0.9734 - val_loss: 1.9468 - val_accuracy: 0.5211 - lr: 2.7000e-05\n",
            "Epoch 30/500\n",
            "52/52 [==============================] - ETA: 0s - loss: 0.0703 - accuracy: 0.9832\n",
            "Epoch 30: val_loss did not improve from 0.09352\n",
            "52/52 [==============================] - 3s 52ms/step - loss: 0.0703 - accuracy: 0.9832 - val_loss: 0.4229 - val_accuracy: 0.8484 - lr: 8.1000e-06\n",
            "Epoch 31/500\n",
            "52/52 [==============================] - ETA: 0s - loss: 0.0750 - accuracy: 0.9806\n",
            "Epoch 31: val_loss did not improve from 0.09352\n",
            "52/52 [==============================] - 3s 52ms/step - loss: 0.0750 - accuracy: 0.9806 - val_loss: 1.7492 - val_accuracy: 0.5612 - lr: 8.1000e-06\n",
            "Epoch 32/500\n",
            "52/52 [==============================] - ETA: 0s - loss: 0.0663 - accuracy: 0.9851\n",
            "Epoch 32: val_loss did not improve from 0.09352\n",
            "52/52 [==============================] - 3s 52ms/step - loss: 0.0663 - accuracy: 0.9851 - val_loss: 0.3620 - val_accuracy: 0.8704 - lr: 8.1000e-06\n",
            "Epoch 33/500\n",
            "51/52 [============================>.] - ETA: 0s - loss: 0.0732 - accuracy: 0.9793\n",
            "Epoch 33: val_loss did not improve from 0.09352\n",
            "52/52 [==============================] - 3s 51ms/step - loss: 0.0737 - accuracy: 0.9792 - val_loss: 0.1442 - val_accuracy: 0.9419 - lr: 8.1000e-06\n",
            "Epoch 34/500\n",
            "51/52 [============================>.] - ETA: 0s - loss: 0.0677 - accuracy: 0.9836\n",
            "Epoch 34: val_loss did not improve from 0.09352\n",
            "52/52 [==============================] - 3s 52ms/step - loss: 0.0677 - accuracy: 0.9836 - val_loss: 0.2665 - val_accuracy: 0.8884 - lr: 8.1000e-06\n",
            "Epoch 35/500\n",
            "51/52 [============================>.] - ETA: 0s - loss: 0.0653 - accuracy: 0.9856\n",
            "Epoch 35: val_loss did not improve from 0.09352\n",
            "52/52 [==============================] - 3s 52ms/step - loss: 0.0652 - accuracy: 0.9856 - val_loss: 0.1338 - val_accuracy: 0.9469 - lr: 2.4300e-06\n",
            "Epoch 36/500\n",
            "51/52 [============================>.] - ETA: 0s - loss: 0.0672 - accuracy: 0.9812\n",
            "Epoch 36: val_loss improved from 0.09352 to 0.08979, saving model to ./best_weights.hdf5\n",
            "52/52 [==============================] - 3s 54ms/step - loss: 0.0677 - accuracy: 0.9809 - val_loss: 0.0898 - val_accuracy: 0.9695 - lr: 2.4300e-06\n",
            "Epoch 37/500\n",
            "51/52 [============================>.] - ETA: 0s - loss: 0.0674 - accuracy: 0.9831\n",
            "Epoch 37: val_loss improved from 0.08979 to 0.08755, saving model to ./best_weights.hdf5\n",
            "52/52 [==============================] - 3s 54ms/step - loss: 0.0679 - accuracy: 0.9830 - val_loss: 0.0875 - val_accuracy: 0.9695 - lr: 2.4300e-06\n",
            "Epoch 38/500\n",
            "51/52 [============================>.] - ETA: 0s - loss: 0.0658 - accuracy: 0.9833\n",
            "Epoch 38: val_loss improved from 0.08755 to 0.08624, saving model to ./best_weights.hdf5\n",
            "52/52 [==============================] - 3s 55ms/step - loss: 0.0658 - accuracy: 0.9833 - val_loss: 0.0862 - val_accuracy: 0.9714 - lr: 2.4300e-06\n",
            "Epoch 39/500\n",
            "52/52 [==============================] - ETA: 0s - loss: 0.0677 - accuracy: 0.9830\n",
            "Epoch 39: val_loss did not improve from 0.08624\n",
            "52/52 [==============================] - 3s 52ms/step - loss: 0.0677 - accuracy: 0.9830 - val_loss: 0.0864 - val_accuracy: 0.9711 - lr: 2.4300e-06\n",
            "Epoch 40/500\n",
            "52/52 [==============================] - ETA: 0s - loss: 0.0658 - accuracy: 0.9855\n",
            "Epoch 40: val_loss did not improve from 0.08624\n",
            "52/52 [==============================] - 3s 55ms/step - loss: 0.0658 - accuracy: 0.9855 - val_loss: 0.0957 - val_accuracy: 0.9671 - lr: 2.4300e-06\n",
            "Epoch 41/500\n",
            "51/52 [============================>.] - ETA: 0s - loss: 0.0678 - accuracy: 0.9831\n",
            "Epoch 41: val_loss did not improve from 0.08624\n",
            "52/52 [==============================] - 3s 55ms/step - loss: 0.0677 - accuracy: 0.9832 - val_loss: 0.0884 - val_accuracy: 0.9711 - lr: 2.4300e-06\n",
            "Epoch 42/500\n",
            "51/52 [============================>.] - ETA: 0s - loss: 0.0626 - accuracy: 0.9861\n",
            "Epoch 42: val_loss did not improve from 0.08624\n",
            "52/52 [==============================] - 3s 52ms/step - loss: 0.0630 - accuracy: 0.9858 - val_loss: 0.0963 - val_accuracy: 0.9649 - lr: 2.4300e-06\n",
            "Epoch 43/500\n",
            "51/52 [============================>.] - ETA: 0s - loss: 0.0645 - accuracy: 0.9865\n",
            "Epoch 43: val_loss did not improve from 0.08624\n",
            "52/52 [==============================] - 3s 52ms/step - loss: 0.0645 - accuracy: 0.9865 - val_loss: 0.1011 - val_accuracy: 0.9658 - lr: 2.4300e-06\n",
            "Epoch 44/500\n",
            "51/52 [============================>.] - ETA: 0s - loss: 0.0674 - accuracy: 0.9848\n",
            "Epoch 44: val_loss did not improve from 0.08624\n",
            "52/52 [==============================] - 3s 52ms/step - loss: 0.0676 - accuracy: 0.9847 - val_loss: 0.0960 - val_accuracy: 0.9649 - lr: 7.2900e-07\n",
            "Epoch 45/500\n",
            "51/52 [============================>.] - ETA: 0s - loss: 0.0662 - accuracy: 0.9839\n",
            "Epoch 45: val_loss did not improve from 0.08624\n",
            "52/52 [==============================] - 3s 52ms/step - loss: 0.0665 - accuracy: 0.9836 - val_loss: 0.0941 - val_accuracy: 0.9667 - lr: 7.2900e-07\n",
            "Epoch 46/500\n",
            "52/52 [==============================] - ETA: 0s - loss: 0.0643 - accuracy: 0.9847\n",
            "Epoch 46: val_loss did not improve from 0.08624\n",
            "52/52 [==============================] - 3s 52ms/step - loss: 0.0643 - accuracy: 0.9847 - val_loss: 0.1016 - val_accuracy: 0.9661 - lr: 7.2900e-07\n",
            "Epoch 47/500\n",
            "51/52 [============================>.] - ETA: 0s - loss: 0.0659 - accuracy: 0.9828\n",
            "Epoch 47: val_loss did not improve from 0.08624\n",
            "52/52 [==============================] - 3s 52ms/step - loss: 0.0663 - accuracy: 0.9827 - val_loss: 0.0985 - val_accuracy: 0.9655 - lr: 7.2900e-07\n",
            "Epoch 48/500\n",
            "51/52 [============================>.] - ETA: 0s - loss: 0.0618 - accuracy: 0.9865\n",
            "Epoch 48: val_loss did not improve from 0.08624\n",
            "52/52 [==============================] - 3s 52ms/step - loss: 0.0620 - accuracy: 0.9864 - val_loss: 0.0925 - val_accuracy: 0.9674 - lr: 7.2900e-07\n",
            "Epoch 49/500\n",
            "51/52 [============================>.] - ETA: 0s - loss: 0.0644 - accuracy: 0.9848\n",
            "Epoch 49: val_loss did not improve from 0.08624\n",
            "52/52 [==============================] - 3s 51ms/step - loss: 0.0652 - accuracy: 0.9847 - val_loss: 0.0939 - val_accuracy: 0.9674 - lr: 2.1870e-07\n",
            "Epoch 50/500\n",
            "51/52 [============================>.] - ETA: 0s - loss: 0.0657 - accuracy: 0.9841\n",
            "Epoch 50: val_loss did not improve from 0.08624\n",
            "52/52 [==============================] - 3s 52ms/step - loss: 0.0659 - accuracy: 0.9839 - val_loss: 0.0903 - val_accuracy: 0.9711 - lr: 2.1870e-07\n",
            "Epoch 51/500\n",
            "51/52 [============================>.] - ETA: 0s - loss: 0.0639 - accuracy: 0.9861\n",
            "Epoch 51: val_loss did not improve from 0.08624\n",
            "52/52 [==============================] - 3s 51ms/step - loss: 0.0639 - accuracy: 0.9861 - val_loss: 0.0898 - val_accuracy: 0.9711 - lr: 2.1870e-07\n",
            "Epoch 52/500\n",
            "52/52 [==============================] - ETA: 0s - loss: 0.0665 - accuracy: 0.9842\n",
            "Epoch 52: val_loss did not improve from 0.08624\n",
            "52/52 [==============================] - 3s 52ms/step - loss: 0.0665 - accuracy: 0.9842 - val_loss: 0.0914 - val_accuracy: 0.9692 - lr: 2.1870e-07\n",
            "Epoch 53/500\n",
            "51/52 [============================>.] - ETA: 0s - loss: 0.0642 - accuracy: 0.9853\n",
            "Epoch 53: val_loss did not improve from 0.08624\n",
            "52/52 [==============================] - 3s 51ms/step - loss: 0.0649 - accuracy: 0.9851 - val_loss: 0.0973 - val_accuracy: 0.9652 - lr: 2.1870e-07\n",
            "Epoch 53: early stopping\n"
          ]
        }
      ],
      "source": [
        "print(model.summary())\n",
        "history=model.fit(\n",
        "    x_train,y_train,\n",
        "    validation_data = (x_test,y_test),\n",
        "    verbose=1,\n",
        "    epochs=500,\n",
        "    batch_size = 128,\n",
        "    callbacks = callback_list\n",
        ")"
      ]
    },
    {
      "cell_type": "code",
      "execution_count": 26,
      "metadata": {
        "colab": {
          "base_uri": "https://localhost:8080/",
          "height": 313
        },
        "id": "WZ9pN-Wn9-nl",
        "outputId": "722ce66f-45bf-4ac8-f7b1-cfc13bfb1b30"
      },
      "outputs": [
        {
          "output_type": "execute_result",
          "data": {
            "text/plain": [
              "Text(0.5, 0, 'epoch')"
            ]
          },
          "metadata": {},
          "execution_count": 26
        },
        {
          "output_type": "display_data",
          "data": {
            "text/plain": [
              "<Figure size 432x288 with 1 Axes>"
            ],
            "image/png": "[encoded data removed]"
          },
          "metadata": {
            "needs_background": "light"
          }
        }
      ],
      "source": [
        "import matplotlib.pyplot as plt\n",
        "plt.plot(history.history['loss'])\n",
        "plt.plot(history.history['val_loss'])\n",
        "plt.legend(['loss','val_loss'])\n",
        "plt.title('Loss')\n",
        "plt.xlabel('epoch')"
      ]
    },
    {
      "cell_type": "code",
      "execution_count": 27,
      "metadata": {
        "colab": {
          "base_uri": "https://localhost:8080/",
          "height": 313
        },
        "id": "MyDTOqLX9-V6",
        "outputId": "205726a5-d786-4bf9-8e0a-8a42ade2f4c6"
      },
      "outputs": [
        {
          "output_type": "execute_result",
          "data": {
            "text/plain": [
              "Text(0.5, 0, 'epoch')"
            ]
          },
          "metadata": {},
          "execution_count": 27
        },
        {
          "output_type": "display_data",
          "data": {
            "text/plain": [
              "<Figure size 432x288 with 1 Axes>"
            ],
            "image/png": "[encoded data removed]"
          },
          "metadata": {
            "needs_background": "light"
          }
        }
      ],
      "source": [
        "plt.plot(history.history['accuracy'])\n",
        "plt.plot(history.history['val_accuracy'])\n",
        "plt.legend(['accuracy','val_accuracy'])\n",
        "plt.title('Accuracy')\n",
        "plt.xlabel('epoch')"
      ]
    },
    {
      "cell_type": "code",
      "source": [
        "model.evaluate(x_valid, y_valid)"
      ],
      "metadata": {
        "colab": {
          "base_uri": "https://localhost:8080/"
        },
        "id": "hDsH3HjglpKY",
        "outputId": "2bb95cfb-be93-4caf-cf3a-8286b5d1e8a0"
      },
      "execution_count": 28,
      "outputs": [
        {
          "output_type": "stream",
          "name": "stdout",
          "text": [
            "151/151 [==============================] - 1s 6ms/step - loss: 0.1075 - accuracy: 0.9650\n"
          ]
        },
        {
          "output_type": "execute_result",
          "data": {
            "text/plain": [
              "[0.10752379149198532, 0.9650218486785889]"
            ]
          },
          "metadata": {},
          "execution_count": 28
        }
      ]
    },
    {
      "cell_type": "code",
      "source": [
        "import json\n",
        "\n",
        "# lets assume `model` is main model \n",
        "model_json = model.to_json()\n",
        "with open(\"model_in_json_ECG.json\", \"w\") as json_file:\n",
        "    json.dump(model_json, json_file)\n",
        "\n",
        "model.save_weights(\"ECG_lstm.h5\")\n"
      ],
      "metadata": {
        "id": "SJC11viJfqeW"
      },
      "execution_count": 30,
      "outputs": []
    }
  ],
  "metadata": {
    "accelerator": "GPU",
    "colab": {
      "collapsed_sections": [],
      "provenance": [],
      "authorship_tag": "ABX9TyPwtCvCJonKQBxj8UU2nmP4",
      "include_colab_link": true
    },
    "kernelspec": {
      "display_name": "Python 3",
      "name": "python3"
    },
    "language_info": {
      "name": "python"
    }
  },
  "nbformat": 4,
  "nbformat_minor": 0
}